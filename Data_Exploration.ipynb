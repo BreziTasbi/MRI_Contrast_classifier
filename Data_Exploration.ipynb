{
 "cells": [
  {
   "cell_type": "markdown",
   "metadata": {},
   "source": [
    "## Data Exploration Notebook\n",
    "\n",
    "This notebook is meant to handily explore the data and select the required subset for training."
   ]
  },
  {
   "cell_type": "code",
   "execution_count": 5,
   "metadata": {},
   "outputs": [],
   "source": [
    "# load libraries\n",
    "\n",
    "import json\n",
    "import nibabel as nib\n",
    "import matplotlib.pyplot as plt\n",
    "import numpy as np\n",
    "import ipywidgets as widgets\n",
    "from IPython.display import display\n",
    "import os\n",
    "import csv\n",
    "import shutil"
   ]
  },
  {
   "cell_type": "code",
   "execution_count": 6,
   "metadata": {},
   "outputs": [
    {
     "name": "stdout",
     "output_type": "stream",
     "text": [
      "Searching for T1w, T2w, and DWI files in data//data-multi-subject// ...\n",
      "T1w file paths have been written to t1w_file_paths.csv\n",
      "T2w file paths have been written to t2w_file_paths.csv\n",
      "DWI file paths have been written to dwi_file_paths.csv\n"
     ]
    }
   ],
   "source": [
    "# this cell aims at extracting the list of path relevant for the first model test which takes T1w T2w adn DWI as input\n",
    "\n",
    "base_dir=\"data//data-multi-subject//\"\n",
    "\n",
    "desired_extension = \".json\"\n",
    "\n",
    "\n",
    "# Define the output CSV file paths\n",
    "t1w_output_file = \"t1w_file_paths.csv\"\n",
    "t2w_output_file = \"t2w_file_paths.csv\"\n",
    "dwi_output_file = \"dwi_file_paths.csv\"\n",
    "\n",
    "# Initialize lists to store the relative paths for T1w, T2w, and DWI files\n",
    "t1w_file_paths = []\n",
    "t2w_file_paths = []\n",
    "dwi_file_paths = []\n",
    "\n",
    "print(\"Searching for T1w, T2w, and DWI files in\", base_dir, \"...\")\n",
    "\n",
    "# Traverse the directory structure\n",
    "for root, dirs, files in os.walk(base_dir):\n",
    "    # Exclude the \"derivatives\" subfolder\n",
    "    if \"derivatives\" in dirs:\n",
    "        dirs.remove(\"derivatives\")\n",
    "    for file in files:\n",
    "        # Check if the file name contains the desired names\n",
    "        if \"T1w\" in file and file.endswith(desired_extension):\n",
    "            # Get the relative path of the T1w file\n",
    "            relative_path = os.path.relpath(os.path.join(root, file), base_dir)\n",
    "            # Remove the file extension\n",
    "            relative_path = os.path.splitext(relative_path)[0]\n",
    "            # Append the relative path to the T1w file paths list\n",
    "            t1w_file_paths.append(relative_path)\n",
    "        elif \"T2w\" in file and file.endswith(desired_extension):\n",
    "            # Get the relative path of the T2w file\n",
    "            relative_path = os.path.relpath(os.path.join(root, file), base_dir)\n",
    "            # Remove the file extension\n",
    "            relative_path = os.path.splitext(relative_path)[0]\n",
    "            # Append the relative path to the T2w file paths list\n",
    "            t2w_file_paths.append(relative_path)\n",
    "        elif \"dwi\" in file and file.endswith(desired_extension):\n",
    "            # Get the relative path of the DWI file\n",
    "            relative_path = os.path.relpath(os.path.join(root, file), base_dir)\n",
    "            # Remove the file extension\n",
    "            relative_path = os.path.splitext(relative_path)[0]\n",
    "            # Append the relative path to the DWI file paths list\n",
    "            dwi_file_paths.append(relative_path)\n",
    "\n",
    "# Write the T1w file paths to the T1w CSV file\n",
    "with open(t1w_output_file, \"w\", newline=\"\") as csvfile:\n",
    "    writer = csv.writer(csvfile)\n",
    "    writer.writerow([\"Relative Path\"])\n",
    "    writer.writerows([[path] for path in t1w_file_paths])\n",
    "\n",
    "# Write the T2w file paths to the T2w CSV file\n",
    "with open(t2w_output_file, \"w\", newline=\"\") as csvfile:\n",
    "    writer = csv.writer(csvfile)\n",
    "    writer.writerow([\"Relative Path\"])\n",
    "    writer.writerows([[path] for path in t2w_file_paths])\n",
    "\n",
    "# Write the DWI file paths to the DWI CSV file\n",
    "with open(dwi_output_file, \"w\", newline=\"\") as csvfile:\n",
    "    writer = csv.writer(csvfile)\n",
    "    writer.writerow([\"Relative Path\"])\n",
    "    writer.writerows([[path] for path in dwi_file_paths])\n",
    "\n",
    "print(\"T1w file paths have been written to\", t1w_output_file)\n",
    "print(\"T2w file paths have been written to\", t2w_output_file)\n",
    "print(\"DWI file paths have been written to\", dwi_output_file)\n"
   ]
  },
  {
   "cell_type": "code",
   "execution_count": 7,
   "metadata": {},
   "outputs": [
    {
     "name": "stdout",
     "output_type": "stream",
     "text": [
      "Base path: data\\data-multi-subject\\sub-tokyoSkyra06\\anat\\sub-tokyoSkyra06_T1w\n",
      "Image shape: (192, 260, 320)\n"
     ]
    }
   ],
   "source": [
    "# load t1w_file_paths.csv\n",
    "t1w_file_paths = []\n",
    "with open(t1w_output_file, \"r\") as csvfile:\n",
    "    csvreader = csv.reader(csvfile)\n",
    "    header = next(csvreader)\n",
    "    for row in csvreader:\n",
    "        t1w_file_paths.append(row[0])\n",
    "\n",
    "\n",
    "# load  a random file from t1w_file_paths.csv\n",
    "base_image_path = \"data\\\\data-multi-subject\\\\\" + t1w_file_paths[220]\n",
    "\n",
    "print(\"Base path:\", base_image_path)\n",
    "\n",
    "# Define the paths for the JSON and NIfTI images files\n",
    "json_file_path = base_image_path + \".json\"\n",
    "nii_file_path = base_image_path + \".nii.gz\"\n",
    "\n",
    "with open(json_file_path, \"r\") as json_file:\n",
    "    metadata = json.load(json_file)\n",
    "\n",
    "image_data = nib.load(nii_file_path).get_fdata()\n",
    "\n",
    "print(\"Image shape:\", image_data.shape)\n"
   ]
  },
  {
   "cell_type": "code",
   "execution_count": 70,
   "metadata": {},
   "outputs": [
    {
     "data": {
      "image/png": "[encoded data removed]",
      "text/plain": [
       "<Figure size 640x480 with 1 Axes>"
      ]
     },
     "metadata": {},
     "output_type": "display_data"
    }
   ],
   "source": [
    "# Choose a slice index to visualize (0-based indexing)\n",
    "slice_index = image_data.shape[2] // 2\n",
    "\n",
    "# Extract the slice from the 3D image data\n",
    "if image_data.ndim == 3:\n",
    "    slice_data = image_data[:, :, slice_index]\n",
    "\n",
    "elif image_data.ndim == 4:\n",
    "    \n",
    "    # average on the third dimension before slicing\n",
    "    slice_data = np.mean(image_data, axis=2)\n",
    "    slice_data = slice_data[:, :, slice_index]\n",
    "\n",
    "# Normalize the intensity values for better visualization\n",
    "min_intensity = np.percentile(slice_data, 1)\n",
    "max_intensity = np.percentile(slice_data, 99)\n",
    "normalized_slice_data = (slice_data - min_intensity) / (max_intensity - min_intensity)\n",
    "\n",
    "# Display the slice using matplotlib\n",
    "plt.imshow(normalized_slice_data, cmap=\"gray\")\n",
    "plt.title(f\"Slice {slice_index}\")\n",
    "plt.show()"
   ]
  },
  {
   "cell_type": "code",
   "execution_count": 17,
   "metadata": {},
   "outputs": [
    {
     "data": {
      "application/vnd.jupyter.widget-view+json": {
       "model_id": "c9af00258ea244b1a19a000878fce3ed",
       "version_major": 2,
       "version_minor": 0
      },
      "text/plain": [
       "interactive(children=(IntSlider(value=48, description='Sagittal Slice', max=95), Output()), _dom_classes=('wid…"
      ]
     },
     "metadata": {},
     "output_type": "display_data"
    },
    {
     "data": {
      "application/vnd.jupyter.widget-view+json": {
       "model_id": "917e960c905a4174918d7c92893aa2ae",
       "version_major": 2,
       "version_minor": 0
      },
      "text/plain": [
       "interactive(children=(IntSlider(value=48, description='rear Slice', max=95), Output()), _dom_classes=('widget-…"
      ]
     },
     "metadata": {},
     "output_type": "display_data"
    },
    {
     "data": {
      "application/vnd.jupyter.widget-view+json": {
       "model_id": "854b504d7e454b3fb99ae147e0cad33a",
       "version_major": 2,
       "version_minor": 0
      },
      "text/plain": [
       "interactive(children=(IntSlider(value=14, description='axial Slice', max=14), Output()), _dom_classes=('widget…"
      ]
     },
     "metadata": {},
     "output_type": "display_data"
    },
    {
     "data": {
      "application/vnd.jupyter.widget-view+json": {
       "model_id": "0c88c250ed7b4ac0a1a9df914314a3fa",
       "version_major": 2,
       "version_minor": 0
      },
      "text/plain": [
       "IntSlider(value=48, description='Sagittal Slice', max=95)"
      ]
     },
     "metadata": {},
     "output_type": "display_data"
    },
    {
     "data": {
      "application/vnd.jupyter.widget-view+json": {
       "model_id": "ea1c2756af404353917d6bdfb059d277",
       "version_major": 2,
       "version_minor": 0
      },
      "text/plain": [
       "IntSlider(value=48, description='rear Slice', max=95)"
      ]
     },
     "metadata": {},
     "output_type": "display_data"
    },
    {
     "data": {
      "application/vnd.jupyter.widget-view+json": {
       "model_id": "4e42fa79609b4e6390cd195cd895ccaa",
       "version_major": 2,
       "version_minor": 0
      },
      "text/plain": [
       "IntSlider(value=14, description='axial Slice', max=14)"
      ]
     },
     "metadata": {},
     "output_type": "display_data"
    }
   ],
   "source": [
    "\n",
    "# Create three slider widgets for controlling the slice index of each view\n",
    "sagittal_slider = widgets.IntSlider(min=0, max=image_data.shape[0]-1, value=slice_index, description='Sagittal Slice')\n",
    "rear_slider = widgets.IntSlider(min=0, max=image_data.shape[1]-1, value=slice_index, description='rear Slice')\n",
    "axial_slider = widgets.IntSlider(min=0, max=image_data.shape[2]-1, value=slice_index, description='axial Slice')\n",
    "\n",
    "# Create three functions to update the displayed image based on the slice index of each view\n",
    "def update_sagittal(slice_index):\n",
    "    # Extract the sagittal slice from the 3D image data\n",
    "    sagittal_slice = image_data[slice_index, :, :]\n",
    "    \n",
    "    # Normalize the intensity values for better visualization\n",
    "    min_intensity = np.percentile(image_data, 1)\n",
    "    max_intensity = np.percentile(image_data, 99)\n",
    "    normalized_sagittal_slice = (sagittal_slice - min_intensity) / (max_intensity - min_intensity)\n",
    "    \n",
    "    # Display the sagittal slice using matplotlib\n",
    "    plt.subplot(1, 2, 1)\n",
    "    plt.imshow(normalized_sagittal_slice, cmap=\"gray\")\n",
    "    plt.title(f\"Sagittal View - Slice {slice_index}\")\n",
    "    \n",
    "    \n",
    "    plt.show()\n",
    "\n",
    "def update_rear(slice_index):\n",
    "    # Extract the rear slice from the 3D image data\n",
    "    rear_slice = image_data[:, slice_index, :]\n",
    "    \n",
    "    \n",
    "    # Normalize the intensity values for better visualization\n",
    "    min_intensity = np.percentile(image_data, 1)\n",
    "    max_intensity = np.percentile(image_data, 99)\n",
    "    normalized_rear_slice = (rear_slice - min_intensity) / (max_intensity - min_intensity)\n",
    "    \n",
    "    # Display the rear slice using matplotlib\n",
    "    plt.subplot(1, 2, 1)\n",
    "    plt.imshow(normalized_rear_slice, cmap=\"gray\")\n",
    "    plt.title(f\"Rear View - Slice {slice_index}\")\n",
    "    \n",
    "    plt.show()\n",
    "\n",
    "def update_axial(slice_index):\n",
    "    # Extract the axial slice from the 3D image data\n",
    "    axial_slice = image_data[:, :, slice_index]\n",
    "    \n",
    "    \n",
    "    # Normalize the intensity values for better visualization\n",
    "    min_intensity = np.percentile(image_data, 1)\n",
    "    max_intensity = np.percentile(image_data, 99)\n",
    "    normalized_axial_slice = (axial_slice - min_intensity) / (max_intensity - min_intensity)\n",
    "    \n",
    "    # Display the axial slice using matplotlib\n",
    "    plt.subplot(1, 2, 1)\n",
    "    plt.imshow(normalized_axial_slice, cmap=\"gray\")\n",
    "    plt.title(f\"Axial View - Slice {slice_index}\")\n",
    "    \n",
    "    \n",
    "    plt.show()\n",
    "\n",
    "# Register the update functions as the callbacks for the sliders\n",
    "widgets.interact(update_sagittal, slice_index=sagittal_slider)\n",
    "widgets.interact(update_rear, slice_index=rear_slider)\n",
    "widgets.interact(update_axial, slice_index=axial_slider)\n",
    "\n",
    "# Display the sliders\n",
    "display(sagittal_slider)\n",
    "display(rear_slider)\n",
    "display(axial_slider)\n",
    "\n"
   ]
  },
  {
   "cell_type": "code",
   "execution_count": 29,
   "metadata": {},
   "outputs": [
    {
     "ename": "ImportError",
     "evalue": "cannot import name 'SliceSelect' from 'monai.transforms' (c:\\Users\\bapti\\AppData\\Local\\Programs\\Python\\Python310\\lib\\site-packages\\monai\\transforms\\__init__.py)",
     "output_type": "error",
     "traceback": [
      "\u001b[1;31m---------------------------------------------------------------------------\u001b[0m",
      "\u001b[1;31mImportError\u001b[0m                               Traceback (most recent call last)",
      "Cell \u001b[1;32mIn[29], line 1\u001b[0m\n\u001b[1;32m----> 1\u001b[0m \u001b[38;5;28;01mfrom\u001b[39;00m \u001b[38;5;21;01mmonai\u001b[39;00m\u001b[38;5;21;01m.\u001b[39;00m\u001b[38;5;21;01mtransforms\u001b[39;00m \u001b[38;5;28;01mimport\u001b[39;00m (\n\u001b[0;32m      2\u001b[0m     Compose,\n\u001b[0;32m      3\u001b[0m     LoadImage,\n\u001b[0;32m      4\u001b[0m     RandScaleCrop,\n\u001b[0;32m      5\u001b[0m     ToTensor,\n\u001b[0;32m      6\u001b[0m     SliceSelect,\n\u001b[0;32m      7\u001b[0m )\n",
      "\u001b[1;31mImportError\u001b[0m: cannot import name 'SliceSelect' from 'monai.transforms' (c:\\Users\\bapti\\AppData\\Local\\Programs\\Python\\Python310\\lib\\site-packages\\monai\\transforms\\__init__.py)"
     ]
    }
   ],
   "source": [
    "from monai.transforms import (\n",
    "    Compose,\n",
    "    LoadImage,\n",
    "    RandScaleCrop,\n",
    "    ToTensor,\n",
    ")"
   ]
  },
  {
   "cell_type": "code",
   "execution_count": 33,
   "metadata": {},
   "outputs": [
    {
     "name": "stdout",
     "output_type": "stream",
     "text": [
      "torch.Size([192, 26, 64])\n",
      "torch.Size([192, 260, 320])\n"
     ]
    },
    {
     "data": {
      "text/plain": [
       "<matplotlib.image.AxesImage at 0x2058405b7c0>"
      ]
     },
     "execution_count": 33,
     "metadata": {},
     "output_type": "execute_result"
    },
    {
     "data": {
      "image/png": "[encoded data removed]",
      "text/plain": [
       "<Figure size 640x480 with 1 Axes>"
      ]
     },
     "metadata": {},
     "output_type": "display_data"
    }
   ],
   "source": [
    "# testing monai transforms\n",
    "\n",
    "# Define the transform pipeline\n",
    "transforms_1 = Compose(\n",
    "    [\n",
    "        LoadImage(image_only=True),\n",
    "        # only keep a single 2d slice\n",
    "        RandScaleCrop(\n",
    "            [0.1, 0.2],\n",
    "        ),\n",
    "        ToTensor(),  # convert the image to a PyTorch tensor\n",
    "    ]\n",
    ")\n",
    "\n",
    "transformes_2 = Compose(\n",
    "    [\n",
    "        LoadImage(image_only=True),\n",
    "        ToTensor(),  # convert the image to a PyTorch tensor\n",
    "    ]\n",
    ")\n",
    "\n",
    "# Load an image and apply the transforms\n",
    "image = transforms_1(nii_file_path)\n",
    "image_2 = transformes_2(nii_file_path)\n",
    "\n",
    "# Check the shape of the transformed image\n",
    "print(image.shape)  \n",
    "print(image_2.shape)\n",
    "# display the transformed image\n",
    "plt.imshow(image[20], cmap=\"gray\")\n",
    "\n",
    "# display the initial image\n",
    "#plt.imshow(image_2[0], cmap=\"gray\")\n"
   ]
  }
 ],
 "metadata": {
  "kernelspec": {
   "display_name": "Python 3",
   "language": "python",
   "name": "python3"
  },
  "language_info": {
   "codemirror_mode": {
    "name": "ipython",
    "version": 3
   },
   "file_extension": ".py",
   "mimetype": "text/x-python",
   "name": "python",
   "nbconvert_exporter": "python",
   "pygments_lexer": "ipython3",
   "version": "3.10.6"
  }
 },
 "nbformat": 4,
 "nbformat_minor": 2
}
