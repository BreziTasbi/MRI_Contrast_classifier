{
 "cells": [
  {
   "cell_type": "markdown",
   "metadata": {},
   "source": [
    "## Data Exploration Notebook\n",
    "\n",
    "This notebook is meant to handily explore the data and select the required subset for training."
   ]
  },
  {
   "cell_type": "code",
   "execution_count": 5,
   "metadata": {},
   "outputs": [],
   "source": [
    "# load libraries\n",
    "\n",
    "import json\n",
    "import nibabel as nib\n",
    "import matplotlib.pyplot as plt\n",
    "import numpy as np\n",
    "import ipywidgets as widgets\n",
    "from IPython.display import display\n",
    "import os\n",
    "import csv\n",
    "import shutil"
   ]
  },
  {
   "cell_type": "code",
   "execution_count": 6,
   "metadata": {},
   "outputs": [
    {
     "name": "stdout",
     "output_type": "stream",
     "text": [
      "Searching for T1w, T2w, and DWI files in data//data-multi-subject// ...\n",
      "T1w file paths have been written to t1w_file_paths.csv\n",
      "T2w file paths have been written to t2w_file_paths.csv\n",
      "DWI file paths have been written to dwi_file_paths.csv\n"
     ]
    }
   ],
   "source": [
    "# this cell aims at extracting the list of path relevant for the first model test which takes T1w T2w adn DWI as input\n",
    "\n",
    "base_dir=\"data//data-multi-subject//\"\n",
    "\n",
    "desired_extension = \".json\"\n",
    "\n",
    "\n",
    "# Define the output CSV file paths\n",
    "t1w_output_file = \"t1w_file_paths.csv\"\n",
    "t2w_output_file = \"t2w_file_paths.csv\"\n",
    "dwi_output_file = \"dwi_file_paths.csv\"\n",
    "\n",
    "# Initialize lists to store the relative paths for T1w, T2w, and DWI files\n",
    "t1w_file_paths = []\n",
    "t2w_file_paths = []\n",
    "dwi_file_paths = []\n",
    "\n",
    "print(\"Searching for T1w, T2w, and DWI files in\", base_dir, \"...\")\n",
    "\n",
    "# Traverse the directory structure\n",
    "for root, dirs, files in os.walk(base_dir):\n",
    "    # Exclude the \"derivatives\" subfolder\n",
    "    if \"derivatives\" in dirs:\n",
    "        dirs.remove(\"derivatives\")\n",
    "    for file in files:\n",
    "        # Check if the file name contains the desired names\n",
    "        if \"T1w\" in file and file.endswith(desired_extension):\n",
    "            # Get the relative path of the T1w file\n",
    "            relative_path = os.path.relpath(os.path.join(root, file), base_dir)\n",
    "            # Remove the file extension\n",
    "            relative_path = os.path.splitext(relative_path)[0]\n",
    "            # Append the relative path to the T1w file paths list\n",
    "            t1w_file_paths.append(relative_path)\n",
    "        elif \"T2w\" in file and file.endswith(desired_extension):\n",
    "            # Get the relative path of the T2w file\n",
    "            relative_path = os.path.relpath(os.path.join(root, file), base_dir)\n",
    "            # Remove the file extension\n",
    "            relative_path = os.path.splitext(relative_path)[0]\n",
    "            # Append the relative path to the T2w file paths list\n",
    "            t2w_file_paths.append(relative_path)\n",
    "        elif \"dwi\" in file and file.endswith(desired_extension):\n",
    "            # Get the relative path of the DWI file\n",
    "            relative_path = os.path.relpath(os.path.join(root, file), base_dir)\n",
    "            # Remove the file extension\n",
    "            relative_path = os.path.splitext(relative_path)[0]\n",
    "            # Append the relative path to the DWI file paths list\n",
    "            dwi_file_paths.append(relative_path)\n",
    "\n",
    "# Write the T1w file paths to the T1w CSV file\n",
    "with open(t1w_output_file, \"w\", newline=\"\") as csvfile:\n",
    "    writer = csv.writer(csvfile)\n",
    "    writer.writerow([\"Relative Path\"])\n",
    "    writer.writerows([[path] for path in t1w_file_paths])\n",
    "\n",
    "# Write the T2w file paths to the T2w CSV file\n",
    "with open(t2w_output_file, \"w\", newline=\"\") as csvfile:\n",
    "    writer = csv.writer(csvfile)\n",
    "    writer.writerow([\"Relative Path\"])\n",
    "    writer.writerows([[path] for path in t2w_file_paths])\n",
    "\n",
    "# Write the DWI file paths to the DWI CSV file\n",
    "with open(dwi_output_file, \"w\", newline=\"\") as csvfile:\n",
    "    writer = csv.writer(csvfile)\n",
    "    writer.writerow([\"Relative Path\"])\n",
    "    writer.writerows([[path] for path in dwi_file_paths])\n",
    "\n",
    "print(\"T1w file paths have been written to\", t1w_output_file)\n",
    "print(\"T2w file paths have been written to\", t2w_output_file)\n",
    "print(\"DWI file paths have been written to\", dwi_output_file)\n"
   ]
  },
  {
   "cell_type": "code",
   "execution_count": 7,
   "metadata": {},
   "outputs": [
    {
     "name": "stdout",
     "output_type": "stream",
     "text": [
      "Base path: data\\data-multi-subject\\sub-tokyoSkyra06\\anat\\sub-tokyoSkyra06_T1w\n",
      "Image shape: (192, 260, 320)\n"
     ]
    }
   ],
   "source": [
    "# load t1w_file_paths.csv\n",
    "t1w_file_paths = []\n",
    "with open(t1w_output_file, \"r\") as csvfile:\n",
    "    csvreader = csv.reader(csvfile)\n",
    "    header = next(csvreader)\n",
    "    for row in csvreader:\n",
    "        t1w_file_paths.append(row[0])\n",
    "\n",
    "\n",
    "# load  a random file from t1w_file_paths.csv\n",
    "base_image_path = \"data\\\\data-multi-subject\\\\\" + t1w_file_paths[220]\n",
    "\n",
    "print(\"Base path:\", base_image_path)\n",
    "\n",
    "# Define the paths for the JSON and NIfTI images files\n",
    "json_file_path = base_image_path + \".json\"\n",
    "nii_file_path = base_image_path + \".nii.gz\"\n",
    "\n",
    "with open(json_file_path, \"r\") as json_file:\n",
    "    metadata = json.load(json_file)\n",
    "\n",
    "image_data = nib.load(nii_file_path).get_fdata()\n",
    "\n",
    "print(\"Image shape:\", image_data.shape)\n"
   ]
  },
  {
   "cell_type": "code",
   "execution_count": 70,
   "metadata": {},
   "outputs": [
    {
     "data": {
      "image/png": "[encoded data removed]",
      "text/plain": [
       "<Figure size 640x480 with 1 Axes>"
      ]
     },
     "metadata": {},
     "output_type": "display_data"
    }
   ],
   "source": [
    "# Choose a slice index to visualize (0-based indexing)\n",
    "slice_index = image_data.shape[2] // 2\n",
    "\n",
    "# Extract the slice from the 3D image data\n",
    "if image_data.ndim == 3:\n",
    "    slice_data = image_data[:, :, slice_index]\n",
    "\n",
    "elif image_data.ndim == 4:\n",
    "    \n",
    "    # average on the third dimension before slicing\n",
    "    slice_data = np.mean(image_data, axis=2)\n",
    "    slice_data = slice_data[:, :, slice_index]\n",
    "\n",
    "# Normalize the intensity values for better visualization\n",
    "min_intensity = np.percentile(slice_data, 1)\n",
    "max_intensity = np.percentile(slice_data, 99)\n",
    "normalized_slice_data = (slice_data - min_intensity) / (max_intensity - min_intensity)\n",
    "\n",
    "# Display the slice using matplotlib\n",
    "plt.imshow(normalized_slice_data, cmap=\"gray\")\n",
    "plt.title(f\"Slice {slice_index}\")\n",
    "plt.show()"
   ]
  },
  {
   "cell_type": "code",
   "execution_count": 17,
   "metadata": {},
   "outputs": [
    {
     "data": {
      "application/vnd.jupyter.widget-view+json": {
       "model_id": "c9af00258ea244b1a19a000878fce3ed",
       "version_major": 2,
       "version_minor": 0
      },
      "text/plain": [
       "interactive(children=(IntSlider(value=48, description='Sagittal Slice', max=95), Output()), _dom_classes=('wid…"
      ]
     },
     "metadata": {},
     "output_type": "display_data"
    },
    {
     "data": {
      "application/vnd.jupyter.widget-view+json": {
       "model_id": "917e960c905a4174918d7c92893aa2ae",
       "version_major": 2,
       "version_minor": 0
      },
      "text/plain": [
       "interactive(children=(IntSlider(value=48, description='rear Slice', max=95), Output()), _dom_classes=('widget-…"
      ]
     },
     "metadata": {},
     "output_type": "display_data"
    },
    {
     "data": {
      "application/vnd.jupyter.widget-view+json": {
       "model_id": "854b504d7e454b3fb99ae147e0cad33a",
       "version_major": 2,
       "version_minor": 0
      },
      "text/plain": [
       "interactive(children=(IntSlider(value=14, description='axial Slice', max=14), Output()), _dom_classes=('widget…"
      ]
     },
     "metadata": {},
     "output_type": "display_data"
    },
    {
     "data": {
      "application/vnd.jupyter.widget-view+json": {
       "model_id": "0c88c250ed7b4ac0a1a9df914314a3fa",
       "version_major": 2,
       "version_minor": 0
      },
      "text/plain": [
       "IntSlider(value=48, description='Sagittal Slice', max=95)"
      ]
     },
     "metadata": {},
     "output_type": "display_data"
    },
    {
     "data": {
      "application/vnd.jupyter.widget-view+json": {
       "model_id": "ea1c2756af404353917d6bdfb059d277",
       "version_major": 2,
       "version_minor": 0
      },
      "text/plain": [
       "IntSlider(value=48, description='rear Slice', max=95)"
      ]
     },
     "metadata": {},
     "output_type": "display_data"
    },
    {
     "data": {
      "application/vnd.jupyter.widget-view+json": {
       "model_id": "4e42fa79609b4e6390cd195cd895ccaa",
       "version_major": 2,
       "version_minor": 0
      },
      "text/plain": [
       "IntSlider(value=14, description='axial Slice', max=14)"
      ]
     },
     "metadata": {},
     "output_type": "display_data"
    }
   ],
   "source": [
    "\n",
    "# Create three slider widgets for controlling the slice index of each view\n",
    "sagittal_slider = widgets.IntSlider(min=0, max=image_data.shape[0]-1, value=slice_index, description='Sagittal Slice')\n",
    "rear_slider = widgets.IntSlider(min=0, max=image_data.shape[1]-1, value=slice_index, description='rear Slice')\n",
    "axial_slider = widgets.IntSlider(min=0, max=image_data.shape[2]-1, value=slice_index, description='axial Slice')\n",
    "\n",
    "# Create three functions to update the displayed image based on the slice index of each view\n",
    "def update_sagittal(slice_index):\n",
    "    # Extract the sagittal slice from the 3D image data\n",
    "    sagittal_slice = image_data[slice_index, :, :]\n",
    "    \n",
    "    # Normalize the intensity values for better visualization\n",
    "    min_intensity = np.percentile(image_data, 1)\n",
    "    max_intensity = np.percentile(image_data, 99)\n",
    "    normalized_sagittal_slice = (sagittal_slice - min_intensity) / (max_intensity - min_intensity)\n",
    "    \n",
    "    # Display the sagittal slice using matplotlib\n",
    "    plt.subplot(1, 2, 1)\n",
    "    plt.imshow(normalized_sagittal_slice, cmap=\"gray\")\n",
    "    plt.title(f\"Sagittal View - Slice {slice_index}\")\n",
    "    \n",
    "    \n",
    "    plt.show()\n",
    "\n",
    "def update_rear(slice_index):\n",
    "    # Extract the rear slice from the 3D image data\n",
    "    rear_slice = image_data[:, slice_index, :]\n",
    "    \n",
    "    \n",
    "    # Normalize the intensity values for better visualization\n",
    "    min_intensity = np.percentile(image_data, 1)\n",
    "    max_intensity = np.percentile(image_data, 99)\n",
    "    normalized_rear_slice = (rear_slice - min_intensity) / (max_intensity - min_intensity)\n",
    "    \n",
    "    # Display the rear slice using matplotlib\n",
    "    plt.subplot(1, 2, 1)\n",
    "    plt.imshow(normalized_rear_slice, cmap=\"gray\")\n",
    "    plt.title(f\"Rear View - Slice {slice_index}\")\n",
    "    \n",
    "    plt.show()\n",
    "\n",
    "def update_axial(slice_index):\n",
    "    # Extract the axial slice from the 3D image data\n",
    "    axial_slice = image_data[:, :, slice_index]\n",
    "    \n",
    "    \n",
    "    # Normalize the intensity values for better visualization\n",
    "    min_intensity = np.percentile(image_data, 1)\n",
    "    max_intensity = np.percentile(image_data, 99)\n",
    "    normalized_axial_slice = (axial_slice - min_intensity) / (max_intensity - min_intensity)\n",
    "    \n",
    "    # Display the axial slice using matplotlib\n",
    "    plt.subplot(1, 2, 1)\n",
    "    plt.imshow(normalized_axial_slice, cmap=\"gray\")\n",
    "    plt.title(f\"Axial View - Slice {slice_index}\")\n",
    "    \n",
    "    \n",
    "    plt.show()\n",
    "\n",
    "# Register the update functions as the callbacks for the sliders\n",
    "widgets.interact(update_sagittal, slice_index=sagittal_slider)\n",
    "widgets.interact(update_rear, slice_index=rear_slider)\n",
    "widgets.interact(update_axial, slice_index=axial_slider)\n",
    "\n",
    "# Display the sliders\n",
    "display(sagittal_slider)\n",
    "display(rear_slider)\n",
    "display(axial_slider)\n",
    "\n"
   ]
  },
  {
   "cell_type": "code",
   "execution_count": null,
   "metadata": {},
   "outputs": [],
   "source": [
    "from monai.transforms import (\n",
    "    Compose,\n",
    "    LoadImage,\n",
    "    RandScaleCrop,\n",
    "    ToTensor,\n",
    "    SliceSelect,\n",
    ")"
   ]
  },
  {
   "cell_type": "code",
   "execution_count": 27,
   "metadata": {},
   "outputs": [
    {
     "ename": "RuntimeError",
     "evalue": "applying transform <monai.transforms.croppad.array.RandScaleCrop object at 0x0000020581AC2BF0>",
     "output_type": "error",
     "traceback": [
      "\u001b[1;31m---------------------------------------------------------------------------\u001b[0m",
      "\u001b[1;31mValueError\u001b[0m                                Traceback (most recent call last)",
      "File \u001b[1;32mc:\\Users\\bapti\\AppData\\Local\\Programs\\Python\\Python310\\lib\\site-packages\\monai\\transforms\\transform.py:141\u001b[0m, in \u001b[0;36mapply_transform\u001b[1;34m(transform, data, map_items, unpack_items, log_stats, lazy, overrides)\u001b[0m\n\u001b[0;32m    140\u001b[0m         \u001b[38;5;28;01mreturn\u001b[39;00m [_apply_transform(transform, item, unpack_items, lazy, overrides, log_stats) \u001b[38;5;28;01mfor\u001b[39;00m item \u001b[38;5;129;01min\u001b[39;00m data]\n\u001b[1;32m--> 141\u001b[0m     \u001b[38;5;28;01mreturn\u001b[39;00m \u001b[43m_apply_transform\u001b[49m\u001b[43m(\u001b[49m\u001b[43mtransform\u001b[49m\u001b[43m,\u001b[49m\u001b[43m \u001b[49m\u001b[43mdata\u001b[49m\u001b[43m,\u001b[49m\u001b[43m \u001b[49m\u001b[43munpack_items\u001b[49m\u001b[43m,\u001b[49m\u001b[43m \u001b[49m\u001b[43mlazy\u001b[49m\u001b[43m,\u001b[49m\u001b[43m \u001b[49m\u001b[43moverrides\u001b[49m\u001b[43m,\u001b[49m\u001b[43m \u001b[49m\u001b[43mlog_stats\u001b[49m\u001b[43m)\u001b[49m\n\u001b[0;32m    142\u001b[0m \u001b[38;5;28;01mexcept\u001b[39;00m \u001b[38;5;167;01mException\u001b[39;00m \u001b[38;5;28;01mas\u001b[39;00m e:\n\u001b[0;32m    143\u001b[0m     \u001b[38;5;66;03m# if in debug mode, don't swallow exception so that the breakpoint\u001b[39;00m\n\u001b[0;32m    144\u001b[0m     \u001b[38;5;66;03m# appears where the exception was raised.\u001b[39;00m\n",
      "File \u001b[1;32mc:\\Users\\bapti\\AppData\\Local\\Programs\\Python\\Python310\\lib\\site-packages\\monai\\transforms\\transform.py:98\u001b[0m, in \u001b[0;36m_apply_transform\u001b[1;34m(transform, data, unpack_parameters, lazy, overrides, logger_name)\u001b[0m\n\u001b[0;32m     96\u001b[0m     \u001b[38;5;28;01mreturn\u001b[39;00m transform(\u001b[38;5;241m*\u001b[39mdata, lazy\u001b[38;5;241m=\u001b[39mlazy) \u001b[38;5;28;01mif\u001b[39;00m \u001b[38;5;28misinstance\u001b[39m(transform, LazyTrait) \u001b[38;5;28;01melse\u001b[39;00m transform(\u001b[38;5;241m*\u001b[39mdata)\n\u001b[1;32m---> 98\u001b[0m \u001b[38;5;28;01mreturn\u001b[39;00m \u001b[43mtransform\u001b[49m\u001b[43m(\u001b[49m\u001b[43mdata\u001b[49m\u001b[43m,\u001b[49m\u001b[43m \u001b[49m\u001b[43mlazy\u001b[49m\u001b[38;5;241;43m=\u001b[39;49m\u001b[43mlazy\u001b[49m\u001b[43m)\u001b[49m \u001b[38;5;28;01mif\u001b[39;00m \u001b[38;5;28misinstance\u001b[39m(transform, LazyTrait) \u001b[38;5;28;01melse\u001b[39;00m transform(data)\n",
      "File \u001b[1;32mc:\\Users\\bapti\\AppData\\Local\\Programs\\Python\\Python310\\lib\\site-packages\\monai\\transforms\\croppad\\array.py:696\u001b[0m, in \u001b[0;36mRandScaleCrop.__call__\u001b[1;34m(self, img, randomize, lazy)\u001b[0m\n\u001b[0;32m    691\u001b[0m \u001b[38;5;250m\u001b[39m\u001b[38;5;124;03m\"\"\"\u001b[39;00m\n\u001b[0;32m    692\u001b[0m \u001b[38;5;124;03mApply the transform to `img`, assuming `img` is channel-first and\u001b[39;00m\n\u001b[0;32m    693\u001b[0m \u001b[38;5;124;03mslicing doesn't apply to the channel dim.\u001b[39;00m\n\u001b[0;32m    694\u001b[0m \n\u001b[0;32m    695\u001b[0m \u001b[38;5;124;03m\"\"\"\u001b[39;00m\n\u001b[1;32m--> 696\u001b[0m \u001b[38;5;28;43mself\u001b[39;49m\u001b[38;5;241;43m.\u001b[39;49m\u001b[43mget_max_roi_size\u001b[49m\u001b[43m(\u001b[49m\u001b[43mimg\u001b[49m\u001b[38;5;241;43m.\u001b[39;49m\u001b[43mpeek_pending_shape\u001b[49m\u001b[43m(\u001b[49m\u001b[43m)\u001b[49m\u001b[43m \u001b[49m\u001b[38;5;28;43;01mif\u001b[39;49;00m\u001b[43m \u001b[49m\u001b[38;5;28;43misinstance\u001b[39;49m\u001b[43m(\u001b[49m\u001b[43mimg\u001b[49m\u001b[43m,\u001b[49m\u001b[43m \u001b[49m\u001b[43mMetaTensor\u001b[49m\u001b[43m)\u001b[49m\u001b[43m \u001b[49m\u001b[38;5;28;43;01melse\u001b[39;49;00m\u001b[43m \u001b[49m\u001b[43mimg\u001b[49m\u001b[38;5;241;43m.\u001b[39;49m\u001b[43mshape\u001b[49m\u001b[43m[\u001b[49m\u001b[38;5;241;43m1\u001b[39;49m\u001b[43m:\u001b[49m\u001b[43m]\u001b[49m\u001b[43m)\u001b[49m\n\u001b[0;32m    697\u001b[0m lazy_ \u001b[38;5;241m=\u001b[39m \u001b[38;5;28mself\u001b[39m\u001b[38;5;241m.\u001b[39mlazy \u001b[38;5;28;01mif\u001b[39;00m lazy \u001b[38;5;129;01mis\u001b[39;00m \u001b[38;5;28;01mNone\u001b[39;00m \u001b[38;5;28;01melse\u001b[39;00m lazy\n",
      "File \u001b[1;32mc:\\Users\\bapti\\AppData\\Local\\Programs\\Python\\Python310\\lib\\site-packages\\monai\\transforms\\croppad\\array.py:680\u001b[0m, in \u001b[0;36mRandScaleCrop.get_max_roi_size\u001b[1;34m(self, img_size)\u001b[0m\n\u001b[0;32m    679\u001b[0m ndim \u001b[38;5;241m=\u001b[39m \u001b[38;5;28mlen\u001b[39m(img_size)\n\u001b[1;32m--> 680\u001b[0m \u001b[38;5;28mself\u001b[39m\u001b[38;5;241m.\u001b[39mroi_size \u001b[38;5;241m=\u001b[39m [ceil(r \u001b[38;5;241m*\u001b[39m s) \u001b[38;5;28;01mfor\u001b[39;00m r, s \u001b[38;5;129;01min\u001b[39;00m \u001b[38;5;28mzip\u001b[39m(\u001b[43mensure_tuple_rep\u001b[49m\u001b[43m(\u001b[49m\u001b[38;5;28;43mself\u001b[39;49m\u001b[38;5;241;43m.\u001b[39;49m\u001b[43mroi_scale\u001b[49m\u001b[43m,\u001b[49m\u001b[43m \u001b[49m\u001b[43mndim\u001b[49m\u001b[43m)\u001b[49m, img_size)]\n\u001b[0;32m    681\u001b[0m \u001b[38;5;28;01mif\u001b[39;00m \u001b[38;5;28mself\u001b[39m\u001b[38;5;241m.\u001b[39mmax_roi_scale \u001b[38;5;129;01mis\u001b[39;00m \u001b[38;5;129;01mnot\u001b[39;00m \u001b[38;5;28;01mNone\u001b[39;00m:\n",
      "File \u001b[1;32mc:\\Users\\bapti\\AppData\\Local\\Programs\\Python\\Python310\\lib\\site-packages\\monai\\utils\\misc.py:205\u001b[0m, in \u001b[0;36mensure_tuple_rep\u001b[1;34m(tup, dim)\u001b[0m\n\u001b[0;32m    203\u001b[0m     \u001b[38;5;28;01mreturn\u001b[39;00m \u001b[38;5;28mtuple\u001b[39m(tup)\n\u001b[1;32m--> 205\u001b[0m \u001b[38;5;28;01mraise\u001b[39;00m \u001b[38;5;167;01mValueError\u001b[39;00m(\u001b[38;5;124mf\u001b[39m\u001b[38;5;124m\"\u001b[39m\u001b[38;5;124mSequence must have length \u001b[39m\u001b[38;5;132;01m{\u001b[39;00mdim\u001b[38;5;132;01m}\u001b[39;00m\u001b[38;5;124m, got \u001b[39m\u001b[38;5;132;01m{\u001b[39;00m\u001b[38;5;28mlen\u001b[39m(tup)\u001b[38;5;132;01m}\u001b[39;00m\u001b[38;5;124m.\u001b[39m\u001b[38;5;124m\"\u001b[39m)\n",
      "\u001b[1;31mValueError\u001b[0m: Sequence must have length 2, got 3.",
      "\nThe above exception was the direct cause of the following exception:\n",
      "\u001b[1;31mRuntimeError\u001b[0m                              Traceback (most recent call last)",
      "Cell \u001b[1;32mIn[27], line 24\u001b[0m\n\u001b[0;32m     16\u001b[0m transformes_2 \u001b[38;5;241m=\u001b[39m Compose(\n\u001b[0;32m     17\u001b[0m     [\n\u001b[0;32m     18\u001b[0m         LoadImage(image_only\u001b[38;5;241m=\u001b[39m\u001b[38;5;28;01mTrue\u001b[39;00m),\n\u001b[0;32m     19\u001b[0m         ToTensor(),  \u001b[38;5;66;03m# convert the image to a PyTorch tensor\u001b[39;00m\n\u001b[0;32m     20\u001b[0m     ]\n\u001b[0;32m     21\u001b[0m )\n\u001b[0;32m     23\u001b[0m \u001b[38;5;66;03m# Load an image and apply the transforms\u001b[39;00m\n\u001b[1;32m---> 24\u001b[0m image \u001b[38;5;241m=\u001b[39m \u001b[43mtransforms_1\u001b[49m\u001b[43m(\u001b[49m\u001b[43mnii_file_path\u001b[49m\u001b[43m)\u001b[49m\n\u001b[0;32m     25\u001b[0m image_2 \u001b[38;5;241m=\u001b[39m transformes_2(nii_file_path)\n\u001b[0;32m     27\u001b[0m \u001b[38;5;66;03m# Check the shape of the transformed image\u001b[39;00m\n",
      "File \u001b[1;32mc:\\Users\\bapti\\AppData\\Local\\Programs\\Python\\Python310\\lib\\site-packages\\monai\\transforms\\compose.py:335\u001b[0m, in \u001b[0;36mCompose.__call__\u001b[1;34m(self, input_, start, end, threading, lazy)\u001b[0m\n\u001b[0;32m    333\u001b[0m \u001b[38;5;28;01mdef\u001b[39;00m \u001b[38;5;21m__call__\u001b[39m(\u001b[38;5;28mself\u001b[39m, input_, start\u001b[38;5;241m=\u001b[39m\u001b[38;5;241m0\u001b[39m, end\u001b[38;5;241m=\u001b[39m\u001b[38;5;28;01mNone\u001b[39;00m, threading\u001b[38;5;241m=\u001b[39m\u001b[38;5;28;01mFalse\u001b[39;00m, lazy: \u001b[38;5;28mbool\u001b[39m \u001b[38;5;241m|\u001b[39m \u001b[38;5;28;01mNone\u001b[39;00m \u001b[38;5;241m=\u001b[39m \u001b[38;5;28;01mNone\u001b[39;00m):\n\u001b[0;32m    334\u001b[0m     _lazy \u001b[38;5;241m=\u001b[39m \u001b[38;5;28mself\u001b[39m\u001b[38;5;241m.\u001b[39m_lazy \u001b[38;5;28;01mif\u001b[39;00m lazy \u001b[38;5;129;01mis\u001b[39;00m \u001b[38;5;28;01mNone\u001b[39;00m \u001b[38;5;28;01melse\u001b[39;00m lazy\n\u001b[1;32m--> 335\u001b[0m     result \u001b[38;5;241m=\u001b[39m \u001b[43mexecute_compose\u001b[49m\u001b[43m(\u001b[49m\n\u001b[0;32m    336\u001b[0m \u001b[43m        \u001b[49m\u001b[43minput_\u001b[49m\u001b[43m,\u001b[49m\n\u001b[0;32m    337\u001b[0m \u001b[43m        \u001b[49m\u001b[43mtransforms\u001b[49m\u001b[38;5;241;43m=\u001b[39;49m\u001b[38;5;28;43mself\u001b[39;49m\u001b[38;5;241;43m.\u001b[39;49m\u001b[43mtransforms\u001b[49m\u001b[43m,\u001b[49m\n\u001b[0;32m    338\u001b[0m \u001b[43m        \u001b[49m\u001b[43mstart\u001b[49m\u001b[38;5;241;43m=\u001b[39;49m\u001b[43mstart\u001b[49m\u001b[43m,\u001b[49m\n\u001b[0;32m    339\u001b[0m \u001b[43m        \u001b[49m\u001b[43mend\u001b[49m\u001b[38;5;241;43m=\u001b[39;49m\u001b[43mend\u001b[49m\u001b[43m,\u001b[49m\n\u001b[0;32m    340\u001b[0m \u001b[43m        \u001b[49m\u001b[43mmap_items\u001b[49m\u001b[38;5;241;43m=\u001b[39;49m\u001b[38;5;28;43mself\u001b[39;49m\u001b[38;5;241;43m.\u001b[39;49m\u001b[43mmap_items\u001b[49m\u001b[43m,\u001b[49m\n\u001b[0;32m    341\u001b[0m \u001b[43m        \u001b[49m\u001b[43munpack_items\u001b[49m\u001b[38;5;241;43m=\u001b[39;49m\u001b[38;5;28;43mself\u001b[39;49m\u001b[38;5;241;43m.\u001b[39;49m\u001b[43munpack_items\u001b[49m\u001b[43m,\u001b[49m\n\u001b[0;32m    342\u001b[0m \u001b[43m        \u001b[49m\u001b[43mlazy\u001b[49m\u001b[38;5;241;43m=\u001b[39;49m\u001b[43m_lazy\u001b[49m\u001b[43m,\u001b[49m\n\u001b[0;32m    343\u001b[0m \u001b[43m        \u001b[49m\u001b[43moverrides\u001b[49m\u001b[38;5;241;43m=\u001b[39;49m\u001b[38;5;28;43mself\u001b[39;49m\u001b[38;5;241;43m.\u001b[39;49m\u001b[43moverrides\u001b[49m\u001b[43m,\u001b[49m\n\u001b[0;32m    344\u001b[0m \u001b[43m        \u001b[49m\u001b[43mthreading\u001b[49m\u001b[38;5;241;43m=\u001b[39;49m\u001b[43mthreading\u001b[49m\u001b[43m,\u001b[49m\n\u001b[0;32m    345\u001b[0m \u001b[43m        \u001b[49m\u001b[43mlog_stats\u001b[49m\u001b[38;5;241;43m=\u001b[39;49m\u001b[38;5;28;43mself\u001b[39;49m\u001b[38;5;241;43m.\u001b[39;49m\u001b[43mlog_stats\u001b[49m\u001b[43m,\u001b[49m\n\u001b[0;32m    346\u001b[0m \u001b[43m    \u001b[49m\u001b[43m)\u001b[49m\n\u001b[0;32m    348\u001b[0m     \u001b[38;5;28;01mreturn\u001b[39;00m result\n",
      "File \u001b[1;32mc:\\Users\\bapti\\AppData\\Local\\Programs\\Python\\Python310\\lib\\site-packages\\monai\\transforms\\compose.py:111\u001b[0m, in \u001b[0;36mexecute_compose\u001b[1;34m(data, transforms, map_items, unpack_items, start, end, lazy, overrides, threading, log_stats)\u001b[0m\n\u001b[0;32m    109\u001b[0m     \u001b[38;5;28;01mif\u001b[39;00m threading:\n\u001b[0;32m    110\u001b[0m         _transform \u001b[38;5;241m=\u001b[39m deepcopy(_transform) \u001b[38;5;28;01mif\u001b[39;00m \u001b[38;5;28misinstance\u001b[39m(_transform, ThreadUnsafe) \u001b[38;5;28;01melse\u001b[39;00m _transform\n\u001b[1;32m--> 111\u001b[0m     data \u001b[38;5;241m=\u001b[39m \u001b[43mapply_transform\u001b[49m\u001b[43m(\u001b[49m\n\u001b[0;32m    112\u001b[0m \u001b[43m        \u001b[49m\u001b[43m_transform\u001b[49m\u001b[43m,\u001b[49m\u001b[43m \u001b[49m\u001b[43mdata\u001b[49m\u001b[43m,\u001b[49m\u001b[43m \u001b[49m\u001b[43mmap_items\u001b[49m\u001b[43m,\u001b[49m\u001b[43m \u001b[49m\u001b[43munpack_items\u001b[49m\u001b[43m,\u001b[49m\u001b[43m \u001b[49m\u001b[43mlazy\u001b[49m\u001b[38;5;241;43m=\u001b[39;49m\u001b[43mlazy\u001b[49m\u001b[43m,\u001b[49m\u001b[43m \u001b[49m\u001b[43moverrides\u001b[49m\u001b[38;5;241;43m=\u001b[39;49m\u001b[43moverrides\u001b[49m\u001b[43m,\u001b[49m\u001b[43m \u001b[49m\u001b[43mlog_stats\u001b[49m\u001b[38;5;241;43m=\u001b[39;49m\u001b[43mlog_stats\u001b[49m\n\u001b[0;32m    113\u001b[0m \u001b[43m    \u001b[49m\u001b[43m)\u001b[49m\n\u001b[0;32m    114\u001b[0m data \u001b[38;5;241m=\u001b[39m apply_pending_transforms(data, \u001b[38;5;28;01mNone\u001b[39;00m, overrides, logger_name\u001b[38;5;241m=\u001b[39mlog_stats)\n\u001b[0;32m    115\u001b[0m \u001b[38;5;28;01mreturn\u001b[39;00m data\n",
      "File \u001b[1;32mc:\\Users\\bapti\\AppData\\Local\\Programs\\Python\\Python310\\lib\\site-packages\\monai\\transforms\\transform.py:171\u001b[0m, in \u001b[0;36mapply_transform\u001b[1;34m(transform, data, map_items, unpack_items, log_stats, lazy, overrides)\u001b[0m\n\u001b[0;32m    169\u001b[0m     \u001b[38;5;28;01melse\u001b[39;00m:\n\u001b[0;32m    170\u001b[0m         _log_stats(data\u001b[38;5;241m=\u001b[39mdata)\n\u001b[1;32m--> 171\u001b[0m \u001b[38;5;28;01mraise\u001b[39;00m \u001b[38;5;167;01mRuntimeError\u001b[39;00m(\u001b[38;5;124mf\u001b[39m\u001b[38;5;124m\"\u001b[39m\u001b[38;5;124mapplying transform \u001b[39m\u001b[38;5;132;01m{\u001b[39;00mtransform\u001b[38;5;132;01m}\u001b[39;00m\u001b[38;5;124m\"\u001b[39m) \u001b[38;5;28;01mfrom\u001b[39;00m \u001b[38;5;21;01me\u001b[39;00m\n",
      "\u001b[1;31mRuntimeError\u001b[0m: applying transform <monai.transforms.croppad.array.RandScaleCrop object at 0x0000020581AC2BF0>"
     ]
    }
   ],
   "source": [
    "# testing monai transforms\n",
    "\n",
    "# Define the transform pipeline\n",
    "transforms_1 = Compose(\n",
    "    [\n",
    "        LoadImage(image_only=True),\n",
    "        # only keep a single 2d slice\n",
    "        \n",
    "        RandScaleCrop(\n",
    "            [0.1, 0.2, 0.3],\n",
    "        ),\n",
    "        ToTensor(),  # convert the image to a PyTorch tensor\n",
    "    ]\n",
    ")\n",
    "\n",
    "transformes_2 = Compose(\n",
    "    [\n",
    "        LoadImage(image_only=True),\n",
    "        ToTensor(),  # convert the image to a PyTorch tensor\n",
    "    ]\n",
    ")\n",
    "\n",
    "# Load an image and apply the transforms\n",
    "image = transforms_1(nii_file_path)\n",
    "image_2 = transformes_2(nii_file_path)\n",
    "\n",
    "# Check the shape of the transformed image\n",
    "print(image.shape)  \n",
    "print(image_2.shape)\n",
    "# display the transformed image\n",
    "plt.imshow(image[0], cmap=\"gray\")\n",
    "\n",
    "# display the initial image\n",
    "#plt.imshow(image_2[0], cmap=\"gray\")\n"
   ]
  }
 ],
 "metadata": {
  "kernelspec": {
   "display_name": "Python 3",
   "language": "python",
   "name": "python3"
  },
  "language_info": {
   "codemirror_mode": {
    "name": "ipython",
    "version": 3
   },
   "file_extension": ".py",
   "mimetype": "text/x-python",
   "name": "python",
   "nbconvert_exporter": "python",
   "pygments_lexer": "ipython3",
   "version": "3.10.6"
  }
 },
 "nbformat": 4,
 "nbformat_minor": 2
}
