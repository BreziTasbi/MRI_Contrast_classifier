{
 "cells": [
  {
   "cell_type": "markdown",
   "metadata": {},
   "source": [
    "## 2 constrasts model\n",
    "\n",
    "This notebook load, preprocess the data and train a first modèle to predict if a 2 image is T1w or T2w.\n",
    "The Notebook form helps running and testing fast before coding the final structure"
   ]
  },
  {
   "cell_type": "code",
   "execution_count": 1,
   "metadata": {},
   "outputs": [],
   "source": [
    "import numpy as np\n",
    "import torch\n",
    "import torch.nn as nn\n",
    "import torch.optim as optim\n",
    "import nibabel as nib\n",
    "import pandas as pd\n",
    "from monai.data import Dataset, DataLoader, CacheDataset\n",
    "import torchvision.models as models\n",
    "from monai.transforms import (\n",
    "    Compose,\n",
    "    RandScaleCrop,\n",
    "    RandFlip,\n",
    "    RandRotate90,\n",
    "    RandRotate,\n",
    "    RandShiftIntensity,\n",
    "    ToTensor,\n",
    "    RandSpatialCrop,\n",
    "    LoadImage,\n",
    "    SqueezeDim,\n",
    "    RandRotate,\n",
    ")\n",
    "import os\n",
    "import nibabel as nib\n",
    "import json\n",
    "import pandas as pd\n",
    "from sklearn.model_selection import train_test_split\n",
    "import monai\n",
    "\n",
    "\n",
    "\n",
    "\n",
    "device = torch.device(\"cuda\" if torch.cuda.is_available() else \"cpu\")"
   ]
  },
  {
   "cell_type": "code",
   "execution_count": 2,
   "metadata": {},
   "outputs": [
    {
     "name": "stdout",
     "output_type": "stream",
     "text": [
      "Searching for T1w, T2w, and DWI files in data//data-multi-subject// ...\n",
      "Found 267 T1w files and 267 T2w files.\n"
     ]
    }
   ],
   "source": [
    "# this cell aims at extracting the list of path relevant for the first model test which takes T1w T2w adn DWI as image\n",
    "\n",
    "base_dir=\"data//data-multi-subject//\"\n",
    "\n",
    "desired_extension = \".json\"\n",
    "\n",
    "# Initialize lists to store the relative paths for T1w, T2w, and DWI files\n",
    "t1w_file_paths = []\n",
    "t2w_file_paths = []\n",
    "\n",
    "print(\"Searching for T1w, T2w, and DWI files in\", base_dir, \"...\")\n",
    "\n",
    "# Traverse the directory structure\n",
    "for root, dirs, files in os.walk(base_dir):\n",
    "    # Exclude the \"derivatives\" subfolder\n",
    "    if \"derivatives\" in dirs:\n",
    "        dirs.remove(\"derivatives\")\n",
    "    for file in files:\n",
    "        # Check if the file name contains the desired names\n",
    "        if \"T1w\" in file and file.endswith(desired_extension):\n",
    "            # Get the relative path of the T1w file\n",
    "            relative_path = os.path.relpath(os.path.join(root, file), base_dir)\n",
    "            # Remove the file extension\n",
    "            relative_path = os.path.splitext(base_dir + relative_path)[0] + \".nii.gz\"\n",
    "            # Append the relative path to the T1w file paths list\n",
    "            t1w_file_paths.append(relative_path)\n",
    "        elif \"T2w\" in file and file.endswith(desired_extension):\n",
    "            # Get the relative path of the T2w file\n",
    "            relative_path = os.path.relpath(os.path.join(root, file), base_dir)\n",
    "            # Remove the file extension\n",
    "            relative_path = os.path.splitext(relative_path)[0] + \".nii.gz\"\n",
    "            # Append the relative path to the T2w file paths list\n",
    "            t2w_file_paths.append(base_dir + relative_path)\n",
    "\n",
    "#t1w_file_paths = t1w_file_paths[:20]\n",
    "#t2w_file_paths = t2w_file_paths[:20]\n",
    "\n",
    "print(\"Found\", len(t1w_file_paths), \"T1w files and\", len(t2w_file_paths), \"T2w files.\")"
   ]
  },
  {
   "cell_type": "code",
   "execution_count": 3,
   "metadata": {},
   "outputs": [],
   "source": [
    "# split the data into training and validation sets\n",
    "\n",
    "# build a dataset with a colmn \"file path\" wich contiains the paths listed in both t1w_file_paths and t2w_file_paths\n",
    "path_data = pd.DataFrame({\"image_path\" : t1w_file_paths + t2w_file_paths, \"labels\" : len(t1w_file_paths) * [0] + len(t2w_file_paths) * [1]})\n",
    "\n",
    "train_data, val_data = train_test_split(path_data, test_size=0.2, random_state=0)\n",
    "train_data.reset_index(drop=True, inplace=True)\n",
    "val_data.reset_index(drop=True, inplace=True)\n",
    "\n"
   ]
  },
  {
   "cell_type": "code",
   "execution_count": 5,
   "metadata": {},
   "outputs": [],
   "source": [
    "# Define a custom dataset class\n",
    "class Dataset_2D(Dataset):\n",
    "    def __init__(self, paths, labels, transform=None):\n",
    "        self.data = {\"paths\" : paths, \"labels\" : labels}\n",
    "        self.transform = transform\n",
    "        self.length = len(self.data[\"paths\"])\n",
    "\n",
    "    def __len__(self):\n",
    "        return len(self.data)\n",
    "\n",
    "    def __getitem__(self, index):\n",
    "        path = self.data[\"paths\"][index]\n",
    "        label = [0,1] if self.data[\"labels\"][index] else [1,0]\n",
    "        if self.transform:\n",
    "            image = self.transform(path)\n",
    "            dim_to_squeeze = int(np.random.choice([0,1,2]))\n",
    "            roi_min = np.array([15, 15, 15])\n",
    "            roi_max = np.array([-1, -1, -1])\n",
    "            roi_min[dim_to_squeeze] = 1\n",
    "            roi_max[dim_to_squeeze] = 1\n",
    "            image = RandSpatialCrop(roi_min,  max_roi_size = roi_max, random_size=True, random_center=True)(image)\n",
    "            image = SqueezeDim(dim=dim_to_squeeze + 1)(image)\n",
    "            # Convert to tensor\n",
    "            image = ToTensor()(image)\n",
    "            # add a dimension to the image, for exemple [1, 256, 256] -> [1, 1, 256, 256]\n",
    "            image = image.unsqueeze(0)\n",
    "\n",
    "        # convert label list to tensor with shape [1,2]\n",
    "        label = torch.tensor([label])\n",
    "        return image, label\n",
    "    \n",
    "# use monai to define the transforms for data augmentation\n",
    "# perform the following transformations : rotation (random between +3° and -3°), flipping (random between 0°,  90 °, 180° and 270°), cropping (Random size, random place) and shifting (random shift)\n",
    "\n",
    "train_transforms = Compose(\n",
    "    [\n",
    "        LoadImage(image_only=True, ensure_channel_first=True),\n",
    "        RandRotate90(prob=0.5),\n",
    "        RandFlip(prob=0.5),\n",
    "        RandShiftIntensity(offsets=0.1, prob=0.5),\n",
    "        RandRotate(range_x=3, range_y=3, range_z=3, prob=0.2),\n",
    "        \n",
    "    ]\n",
    ")\n",
    "\n",
    "val_transforms = Compose(\n",
    "    [\n",
    "        LoadImage(image_only=True, ensure_channel_first=True),\n",
    "    ]\n",
    ")\n",
    "\n",
    "# Create the custom datasets\n",
    "train_dataset = Dataset_2D(\n",
    "    paths=train_data['image_path'],\n",
    "    labels=train_data['labels'],\n",
    "    transform=train_transforms,\n",
    ")\n",
    "\n",
    "val_dataset = Dataset_2D(\n",
    "    paths=val_data['image_path'],\n",
    "    labels=val_data['labels'],\n",
    "    transform=val_transforms,\n",
    ")\n"
   ]
  },
  {
   "cell_type": "code",
   "execution_count": 6,
   "metadata": {},
   "outputs": [
    {
     "name": "stdout",
     "output_type": "stream",
     "text": [
      "Index: 147\n",
      "torch.Size([1, 1, 151, 297]) tensor([[0, 1]])\n"
     ]
    },
    {
     "data": {
      "image/png": "[encoded data removed]",
      "text/plain": [
       "<Figure size 640x480 with 1 Axes>"
      ]
     },
     "metadata": {},
     "output_type": "display_data"
    }
   ],
   "source": [
    "# get an image\n",
    "i = np.random.randint(0, train_dataset.length)\n",
    "print(\"Index:\", i)\n",
    "image, label = train_dataset[i]\n",
    "print(image.shape, label)\n",
    "\n",
    "#show image in black and white\n",
    "import matplotlib.pyplot as plt\n",
    "plt.imshow(image[0, 0], cmap='gray')\n",
    "plt.show()\n",
    "\n",
    "\n"
   ]
  },
  {
   "cell_type": "code",
   "execution_count": 7,
   "metadata": {},
   "outputs": [
    {
     "name": "stderr",
     "output_type": "stream",
     "text": [
      "c:\\Users\\bapti\\AppData\\Local\\Programs\\Python\\Python310\\lib\\site-packages\\torchvision\\models\\_utils.py:208: UserWarning: The parameter 'pretrained' is deprecated since 0.13 and may be removed in the future, please use 'weights' instead.\n",
      "  warnings.warn(\n",
      "c:\\Users\\bapti\\AppData\\Local\\Programs\\Python\\Python310\\lib\\site-packages\\torchvision\\models\\_utils.py:223: UserWarning: Arguments other than a weight enum or `None` for 'weights' are deprecated since 0.13 and may be removed in the future. The current behavior is equivalent to passing `weights=None`.\n",
      "  warnings.warn(msg)\n"
     ]
    },
    {
     "name": "stdout",
     "output_type": "stream",
     "text": [
      "metatensor([[[[ 7.,  5., 10.,  ...,  8., 13., 13.],\n",
      "          [ 7.,  6.,  8.,  ..., 10., 12., 12.],\n",
      "          [ 4.,  5.,  4.,  ..., 10.,  5., 17.],\n",
      "          ...,\n",
      "          [ 4.,  1.,  8.,  ...,  1.,  2.,  2.],\n",
      "          [ 8.,  5.,  3.,  ...,  2.,  2.,  5.],\n",
      "          [ 4.,  3.,  3.,  ...,  4.,  2.,  4.]]]])\n",
      "metatensor([[0.6120, 0.4845]], grad_fn=<AliasBackward0>)\n"
     ]
    }
   ],
   "source": [
    "class ResNet18SingleChannel(nn.Module):\n",
    "    # Define the ResNet18 model with a single image channel and an output value between 0 and 1\n",
    "    def __init__(self, num_classes=2):\n",
    "        super(ResNet18SingleChannel, self).__init__()\n",
    "        # Load the pre-trained ResNet18 model\n",
    "        resnet = models.resnet18(pretrained=False)\n",
    "        # Modify the first convolutional layer to take a single channel input\n",
    "        resnet.conv1 = nn.Conv2d(1, 64, kernel_size=7, stride=1, padding=3, bias=False)\n",
    "        # Modify the final fully connected layer to output a single value\n",
    "\n",
    "        self.resnet = resnet\n",
    "\n",
    "        #final fc to go from [batch_size, 1000] to [batch_size, num_classes]\n",
    "        self.fc = nn.Linear(1000, num_classes)\n",
    "\n",
    "    def forward(self, x):\n",
    "        x = self.resnet(x)\n",
    "        x = self.fc(x)\n",
    "        x = torch.sigmoid(x)\n",
    "        return x\n",
    "\n",
    "model = ResNet18SingleChannel(num_classes=2).to(device)\n",
    "\n",
    "image, label = train_dataset[0]\n",
    "print(image)\n",
    "output = model.forward(image.to(device))\n",
    "print(output)"
   ]
  },
  {
   "cell_type": "code",
   "execution_count": 8,
   "metadata": {},
   "outputs": [
    {
     "name": "stdout",
     "output_type": "stream",
     "text": [
      "Epoch 1 / 10\n",
      "0\n",
      "20\n"
     ]
    },
    {
     "name": "stderr",
     "output_type": "stream",
     "text": [
      "c:\\Users\\bapti\\AppData\\Local\\Programs\\Python\\Python310\\lib\\site-packages\\monai\\transforms\\utility\\array.py:597: UserWarning: After SqueezeDim, img.affine is ill-posed: \n",
      "tensor([[ 0.0000e+00,  5.1406e-02, -9.9803e-01,  4.2052e+01],\n",
      "        [ 1.0000e+00,  0.0000e+00,  0.0000e+00,  9.3830e+00],\n",
      "        [ 0.0000e+00, -9.9868e-01, -5.1372e-02, -5.2350e+01],\n",
      "        [ 0.0000e+00,  0.0000e+00,  0.0000e+00,  1.0000e+00]],\n",
      "       dtype=torch.float64).\n",
      "  warnings.warn(f\"After SqueezeDim, img.affine is ill-posed: \\n{img.affine}.\")\n"
     ]
    },
    {
     "name": "stdout",
     "output_type": "stream",
     "text": [
      "40\n"
     ]
    },
    {
     "name": "stderr",
     "output_type": "stream",
     "text": [
      "c:\\Users\\bapti\\AppData\\Local\\Programs\\Python\\Python310\\lib\\site-packages\\monai\\transforms\\utility\\array.py:597: UserWarning: After SqueezeDim, img.affine is ill-posed: \n",
      "tensor([[ 0.0000e+00,  1.2637e-02, -7.9990e-01,  7.3299e+00],\n",
      "        [ 8.0000e-01,  0.0000e+00,  0.0000e+00,  9.4826e+01],\n",
      "        [ 0.0000e+00, -7.9990e-01, -1.2637e-02,  4.2021e+01],\n",
      "        [ 0.0000e+00,  0.0000e+00,  0.0000e+00,  1.0000e+00]],\n",
      "       dtype=torch.float64).\n",
      "  warnings.warn(f\"After SqueezeDim, img.affine is ill-posed: \\n{img.affine}.\")\n"
     ]
    },
    {
     "name": "stdout",
     "output_type": "stream",
     "text": [
      "60\n",
      "80\n",
      "100\n",
      "120\n",
      "140\n",
      "160\n",
      "180\n",
      "200\n",
      "220\n",
      "240\n",
      "260\n",
      "280\n",
      "300\n",
      "320\n",
      "340\n",
      "360\n",
      "380\n",
      "400\n",
      "420\n",
      "Epoch 1 training loss: 164.72913027834147\n",
      "Epoch 2 / 10\n",
      "0\n",
      "20\n",
      "40\n"
     ]
    },
    {
     "name": "stderr",
     "output_type": "stream",
     "text": [
      "c:\\Users\\bapti\\AppData\\Local\\Programs\\Python\\Python310\\lib\\site-packages\\monai\\transforms\\utility\\array.py:597: UserWarning: After SqueezeDim, img.affine is ill-posed: \n",
      "tensor([[ 0.0000e+00,  1.2637e-02, -7.9990e-01,  5.5064e+00],\n",
      "        [ 8.0000e-01,  0.0000e+00,  0.0000e+00, -1.2837e+02],\n",
      "        [ 0.0000e+00, -7.9990e-01, -1.2637e-02,  1.0680e+02],\n",
      "        [ 0.0000e+00,  0.0000e+00,  0.0000e+00,  1.0000e+00]],\n",
      "       dtype=torch.float64).\n",
      "  warnings.warn(f\"After SqueezeDim, img.affine is ill-posed: \\n{img.affine}.\")\n"
     ]
    },
    {
     "name": "stdout",
     "output_type": "stream",
     "text": [
      "60\n"
     ]
    },
    {
     "name": "stderr",
     "output_type": "stream",
     "text": [
      "c:\\Users\\bapti\\AppData\\Local\\Programs\\Python\\Python310\\lib\\site-packages\\monai\\transforms\\utility\\array.py:597: UserWarning: After SqueezeDim, img.affine is ill-posed: \n",
      "tensor([[ 0.0000e+00,  2.8356e-02,  9.9960e-01, -8.3358e+01],\n",
      "        [-1.0002e+00,  0.0000e+00,  0.0000e+00, -1.3509e+02],\n",
      "        [ 0.0000e+00,  9.9982e-01, -2.8350e-02,  8.7557e+01],\n",
      "        [ 0.0000e+00,  0.0000e+00,  0.0000e+00,  1.0000e+00]],\n",
      "       dtype=torch.float64).\n",
      "  warnings.warn(f\"After SqueezeDim, img.affine is ill-posed: \\n{img.affine}.\")\n"
     ]
    },
    {
     "name": "stdout",
     "output_type": "stream",
     "text": [
      "80\n",
      "100\n",
      "120\n",
      "140\n",
      "160\n",
      "180\n",
      "200\n",
      "220\n",
      "240\n",
      "260\n",
      "280\n"
     ]
    },
    {
     "name": "stderr",
     "output_type": "stream",
     "text": [
      "c:\\Users\\bapti\\AppData\\Local\\Programs\\Python\\Python310\\lib\\site-packages\\monai\\transforms\\utility\\array.py:597: UserWarning: After SqueezeDim, img.affine is ill-posed: \n",
      "tensor([[ 0.0000e+00,  2.7249e-02,  9.9902e-01, -6.1481e+01],\n",
      "        [-1.0000e+00,  0.0000e+00,  0.0000e+00,  1.7752e+02],\n",
      "        [ 0.0000e+00,  9.9963e-01, -2.7232e-02, -5.3055e+00],\n",
      "        [ 0.0000e+00,  0.0000e+00,  0.0000e+00,  1.0000e+00]],\n",
      "       dtype=torch.float64).\n",
      "  warnings.warn(f\"After SqueezeDim, img.affine is ill-posed: \\n{img.affine}.\")\n"
     ]
    },
    {
     "name": "stdout",
     "output_type": "stream",
     "text": [
      "300\n"
     ]
    },
    {
     "name": "stderr",
     "output_type": "stream",
     "text": [
      "c:\\Users\\bapti\\AppData\\Local\\Programs\\Python\\Python310\\lib\\site-packages\\monai\\transforms\\utility\\array.py:597: UserWarning: After SqueezeDim, img.affine is ill-posed: \n",
      "tensor([[ 0.0000e+00, -2.8356e-02, -9.9960e-01,  6.7749e+01],\n",
      "        [ 1.0002e+00,  0.0000e+00,  0.0000e+00, -1.3352e+02],\n",
      "        [ 0.0000e+00, -9.9982e-01,  2.8350e-02,  2.1369e+02],\n",
      "        [ 0.0000e+00,  0.0000e+00,  0.0000e+00,  1.0000e+00]],\n",
      "       dtype=torch.float64).\n",
      "  warnings.warn(f\"After SqueezeDim, img.affine is ill-posed: \\n{img.affine}.\")\n"
     ]
    },
    {
     "name": "stdout",
     "output_type": "stream",
     "text": [
      "320\n"
     ]
    },
    {
     "name": "stderr",
     "output_type": "stream",
     "text": [
      "c:\\Users\\bapti\\AppData\\Local\\Programs\\Python\\Python310\\lib\\site-packages\\monai\\transforms\\utility\\array.py:597: UserWarning: After SqueezeDim, img.affine is ill-posed: \n",
      "tensor([[ 0.0000e+00, -1.8870e-02, -7.9978e-01,  2.1153e+01],\n",
      "        [ 8.0000e-01,  0.0000e+00,  0.0000e+00, -4.0409e+01],\n",
      "        [ 0.0000e+00, -7.9978e-01,  1.8870e-02,  1.7433e+01],\n",
      "        [ 0.0000e+00,  0.0000e+00,  0.0000e+00,  1.0000e+00]],\n",
      "       dtype=torch.float64).\n",
      "  warnings.warn(f\"After SqueezeDim, img.affine is ill-posed: \\n{img.affine}.\")\n"
     ]
    },
    {
     "name": "stdout",
     "output_type": "stream",
     "text": [
      "340\n",
      "360\n"
     ]
    },
    {
     "name": "stderr",
     "output_type": "stream",
     "text": [
      "c:\\Users\\bapti\\AppData\\Local\\Programs\\Python\\Python310\\lib\\site-packages\\monai\\transforms\\utility\\array.py:597: UserWarning: After SqueezeDim, img.affine is ill-posed: \n",
      "tensor([[ 0.0000e+00, -3.4767e-02, -7.9924e-01,  2.4603e+01],\n",
      "        [ 8.0000e-01,  0.0000e+00,  0.0000e+00, -5.1013e+01],\n",
      "        [ 0.0000e+00, -7.9924e-01,  3.4767e-02,  1.4055e+02],\n",
      "        [ 0.0000e+00,  0.0000e+00,  0.0000e+00,  1.0000e+00]],\n",
      "       dtype=torch.float64).\n",
      "  warnings.warn(f\"After SqueezeDim, img.affine is ill-posed: \\n{img.affine}.\")\n"
     ]
    },
    {
     "name": "stdout",
     "output_type": "stream",
     "text": [
      "380\n",
      "400\n",
      "420\n",
      "Epoch 2 training loss: 151.35229312628508\n",
      "Epoch 3 / 10\n",
      "0\n"
     ]
    },
    {
     "name": "stderr",
     "output_type": "stream",
     "text": [
      "c:\\Users\\bapti\\AppData\\Local\\Programs\\Python\\Python310\\lib\\site-packages\\monai\\transforms\\utility\\array.py:597: UserWarning: After SqueezeDim, img.affine is ill-posed: \n",
      "tensor([[ 0.0000e+00,  1.2637e-02, -7.9990e-01,  2.6515e+01],\n",
      "        [ 8.0000e-01,  0.0000e+00,  0.0000e+00, -1.2357e+02],\n",
      "        [ 0.0000e+00, -7.9990e-01, -1.2637e-02,  4.3125e+01],\n",
      "        [ 0.0000e+00,  0.0000e+00,  0.0000e+00,  1.0000e+00]],\n",
      "       dtype=torch.float64).\n",
      "  warnings.warn(f\"After SqueezeDim, img.affine is ill-posed: \\n{img.affine}.\")\n"
     ]
    },
    {
     "name": "stdout",
     "output_type": "stream",
     "text": [
      "20\n",
      "40\n",
      "60\n",
      "80\n"
     ]
    },
    {
     "name": "stderr",
     "output_type": "stream",
     "text": [
      "c:\\Users\\bapti\\AppData\\Local\\Programs\\Python\\Python310\\lib\\site-packages\\monai\\transforms\\utility\\array.py:597: UserWarning: After SqueezeDim, img.affine is ill-posed: \n",
      "tensor([[ 0.0000e+00, -2.7249e-02, -9.9902e-01,  2.5580e+01],\n",
      "        [ 1.0000e+00,  0.0000e+00,  0.0000e+00,  8.3524e+01],\n",
      "        [ 0.0000e+00, -9.9963e-01,  2.7232e-02,  1.4438e+02],\n",
      "        [ 0.0000e+00,  0.0000e+00,  0.0000e+00,  1.0000e+00]],\n",
      "       dtype=torch.float64).\n",
      "  warnings.warn(f\"After SqueezeDim, img.affine is ill-posed: \\n{img.affine}.\")\n"
     ]
    },
    {
     "name": "stdout",
     "output_type": "stream",
     "text": [
      "100\n",
      "120\n",
      "140\n",
      "160\n",
      "180\n",
      "200\n"
     ]
    }
   ],
   "source": [
    "criterion = nn.BCELoss()\n",
    "optimizer = optim.Adam(model.parameters(), lr=0.001)\n",
    "\n",
    "\n",
    "# Define the training loop\n",
    "def training_one_epoch(model):\n",
    "    model.train()\n",
    "    running_loss = 0.0\n",
    "    queue_line = np.arange(train_dataset.length)\n",
    "    np.random.shuffle(queue_line) \n",
    "    index=0\n",
    "    for i in queue_line:\n",
    "        if index%20 == 0:\n",
    "            print(index)\n",
    "        image, label = train_dataset[i]\n",
    "        image, label = image.to(device), label.to(device)\n",
    "        optimizer.zero_grad()\n",
    "        outputs = model(image)\n",
    "        loss = criterion(outputs, label.float())\n",
    "        loss.backward()\n",
    "        optimizer.step()\n",
    "        running_loss += loss.item()\n",
    "        index+=1\n",
    "    return model, running_loss / len(train_dataset)\n",
    "\n",
    "# Define the number of epochs\n",
    "num_epochs = 10\n",
    "\n",
    "for epoch in range(num_epochs):\n",
    "    print(f\"Epoch {epoch + 1} / {num_epochs}\")\n",
    "    model, train_loss = training_one_epoch(model)\n",
    "    print(f\"Epoch {epoch + 1} training loss: {train_loss}\")\n",
    "    if (epoch + 1) % 10 == 0:\n",
    "        torch.save(model.state_dict(), f\"model_{epoch + 1}.pth\")\n",
    "#save model\n",
    "torch.save(model.state_dict(), \"model.pth\")\n",
    "\n"
   ]
  },
  {
   "cell_type": "code",
   "execution_count": null,
   "metadata": {},
   "outputs": [
    {
     "name": "stdout",
     "output_type": "stream",
     "text": [
      "metatensor([[0.6818, 0.3297]])\n",
      "metatensor([[0.6832, 0.3287]])\n",
      "metatensor([[0.0154, 0.9768]])\n",
      "metatensor([[0.6825, 0.3292]])\n"
     ]
    },
    {
     "name": "stderr",
     "output_type": "stream",
     "text": [
      "c:\\Users\\bapti\\AppData\\Local\\Programs\\Python\\Python310\\lib\\site-packages\\monai\\transforms\\utility\\array.py:597: UserWarning: After SqueezeDim, img.affine is ill-posed: \n",
      "tensor([[ 0.0000e+00,  4.3468e-02,  9.9905e-01, -5.6091e+01],\n",
      "        [-1.0002e+00,  0.0000e+00,  0.0000e+00,  9.5959e+01],\n",
      "        [ 0.0000e+00,  9.9928e-01, -4.3459e-02,  2.9378e+01],\n",
      "        [ 0.0000e+00,  0.0000e+00,  0.0000e+00,  1.0000e+00]],\n",
      "       dtype=torch.float64).\n",
      "  warnings.warn(f\"After SqueezeDim, img.affine is ill-posed: \\n{img.affine}.\")\n"
     ]
    },
    {
     "name": "stdout",
     "output_type": "stream",
     "text": [
      "metatensor([[0.6833, 0.3286]])\n",
      "metatensor([[0.6825, 0.3292]])\n",
      "metatensor([[0.6835, 0.3283]])\n",
      "metatensor([[0.6839, 0.3280]])\n"
     ]
    },
    {
     "name": "stderr",
     "output_type": "stream",
     "text": [
      "c:\\Users\\bapti\\AppData\\Local\\Programs\\Python\\Python310\\lib\\site-packages\\monai\\transforms\\utility\\array.py:597: UserWarning: After SqueezeDim, img.affine is ill-posed: \n",
      "tensor([[ 0.0000e+00,  2.2680e-02,  7.9968e-01, -2.6430e+01],\n",
      "        [-8.0000e-01,  0.0000e+00,  0.0000e+00, -4.8012e+01],\n",
      "        [ 0.0000e+00,  7.9968e-01, -2.2680e-02, -8.5927e+01],\n",
      "        [ 0.0000e+00,  0.0000e+00,  0.0000e+00,  1.0000e+00]],\n",
      "       dtype=torch.float64).\n",
      "  warnings.warn(f\"After SqueezeDim, img.affine is ill-posed: \\n{img.affine}.\")\n"
     ]
    },
    {
     "name": "stdout",
     "output_type": "stream",
     "text": [
      "metatensor([[0.6819, 0.3295]])\n",
      "metatensor([[0.6829, 0.3290]])\n",
      "metatensor([[0.6838, 0.3280]])\n",
      "metatensor([[0.6838, 0.3280]])\n",
      "metatensor([[0.6836, 0.3282]])\n",
      "metatensor([[0.6829, 0.3290]])\n",
      "metatensor([[0.6839, 0.3279]])\n",
      "metatensor([[0.6832, 0.3287]])\n",
      "metatensor([[0.6836, 0.3283]])\n",
      "metatensor([[0.6836, 0.3282]])\n",
      "metatensor([[0.6833, 0.3286]])\n",
      "metatensor([[0.6839, 0.3279]])\n",
      "metatensor([[0.6838, 0.3281]])\n",
      "metatensor([[0.6826, 0.3290]])\n",
      "metatensor([[0.6819, 0.3296]])\n",
      "metatensor([[0.6831, 0.3287]])\n",
      "metatensor([[0.6814, 0.3304]])\n",
      "metatensor([[0.6832, 0.3286]])\n",
      "metatensor([[0.6838, 0.3280]])\n",
      "metatensor([[0.6833, 0.3285]])\n",
      "metatensor([[0.6842, 0.3277]])\n",
      "metatensor([[0.0055, 0.9951]])\n",
      "metatensor([[0.6838, 0.3280]])\n",
      "metatensor([[0.6840, 0.3279]])\n",
      "metatensor([[0.6839, 0.3279]])\n",
      "metatensor([[0.6837, 0.3281]])\n",
      "metatensor([[0.6839, 0.3279]])\n",
      "metatensor([[0.6841, 0.3278]])\n",
      "metatensor([[0.6839, 0.3279]])\n",
      "metatensor([[0.6814, 0.3305]])\n",
      "metatensor([[0.6826, 0.3290]])\n",
      "metatensor([[0.6829, 0.3290]])\n",
      "metatensor([[0.6829, 0.3288]])\n",
      "metatensor([[0.6837, 0.3281]])\n",
      "metatensor([[0.6829, 0.3289]])\n",
      "metatensor([[0.6835, 0.3283]])\n",
      "metatensor([[0.6827, 0.3289]])\n",
      "metatensor([[0.6823, 0.3294]])\n"
     ]
    },
    {
     "name": "stderr",
     "output_type": "stream",
     "text": [
      "c:\\Users\\bapti\\AppData\\Local\\Programs\\Python\\Python310\\lib\\site-packages\\monai\\transforms\\utility\\array.py:597: UserWarning: After SqueezeDim, img.affine is ill-posed: \n",
      "tensor([[ 0.0000e+00,  2.8356e-02,  9.9960e-01,  7.6665e+00],\n",
      "        [-1.0002e+00,  0.0000e+00,  0.0000e+00, -4.6280e+01],\n",
      "        [ 0.0000e+00,  9.9982e-01, -2.8350e-02,  4.6102e+01],\n",
      "        [ 0.0000e+00,  0.0000e+00,  0.0000e+00,  1.0000e+00]],\n",
      "       dtype=torch.float64).\n",
      "  warnings.warn(f\"After SqueezeDim, img.affine is ill-posed: \\n{img.affine}.\")\n"
     ]
    },
    {
     "name": "stdout",
     "output_type": "stream",
     "text": [
      "metatensor([[0.6829, 0.3288]])\n",
      "metatensor([[0.6831, 0.3287]])\n",
      "metatensor([[0.6829, 0.3290]])\n",
      "metatensor([[0.6833, 0.3286]])\n",
      "metatensor([[0.6831, 0.3287]])\n",
      "metatensor([[0.6841, 0.3278]])\n",
      "metatensor([[0.6828, 0.3291]])\n",
      "metatensor([[0.6830, 0.3288]])\n",
      "Validation accuracy: 0.4953271028037383\n"
     ]
    }
   ],
   "source": [
    "# Assess the model accuracy on the validation set\n",
    "\n",
    "def evaluate_model(model, dataset):\n",
    "    model.eval()\n",
    "    correct = 0\n",
    "    total = 0\n",
    "    with torch.no_grad():\n",
    "        for i in range(dataset.length):\n",
    "            image, label = dataset[i]\n",
    "            image, label = image.to(device), label.to(device)\n",
    "            outputs = model(image)\n",
    "            predicted = torch.argmax(outputs)\n",
    "            if i % 2 == 0:\n",
    "                print(outputs)\n",
    "            total += label.size(0)\n",
    "            correct += (predicted == torch.argmax(label)).sum().item()\n",
    "    return correct / total\n",
    "\n",
    "accuracy = evaluate_model(model, val_dataset)\n",
    "print(f\"Validation accuracy: {accuracy}\")"
   ]
  }
 ],
 "metadata": {
  "kernelspec": {
   "display_name": "Python 3",
   "language": "python",
   "name": "python3"
  },
  "language_info": {
   "codemirror_mode": {
    "name": "ipython",
    "version": 3
   },
   "file_extension": ".py",
   "mimetype": "text/x-python",
   "name": "python",
   "nbconvert_exporter": "python",
   "pygments_lexer": "ipython3",
   "version": "3.10.6"
  }
 },
 "nbformat": 4,
 "nbformat_minor": 2
}
