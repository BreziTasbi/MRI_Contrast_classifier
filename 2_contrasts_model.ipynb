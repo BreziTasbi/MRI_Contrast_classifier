{
 "cells": [
  {
   "cell_type": "markdown",
   "metadata": {},
   "source": [
    "## 2 constrasts model\n",
    "\n",
    "This notebook load, preprocess the data and train a first modèle to predict if a 2 image is T1w or T2w.\n",
    "The Notebook form helps running and testing fast before coding the final structure"
   ]
  },
  {
   "cell_type": "code",
   "execution_count": 13,
   "metadata": {},
   "outputs": [],
   "source": [
    "import numpy as np\n",
    "import torch\n",
    "import torch.nn as nn\n",
    "import torch.optim as optim\n",
    "import nibabel as nib\n",
    "import pandas as pd\n",
    "from monai.data import Dataset, DataLoader, CacheDataset\n",
    "import torchvision.models as models\n",
    "from monai.transforms import (\n",
    "    Compose,\n",
    "    RandScaleCrop,\n",
    "    RandFlip,\n",
    "    RandRotate90,\n",
    "    RandRotate,\n",
    "    RandShiftIntensity,\n",
    "    ToTensor,\n",
    "    RandSpatialCrop,\n",
    "    LoadImage,\n",
    "    SqueezeDim,\n",
    "    RandRotate,\n",
    ")\n",
    "import os\n",
    "import nibabel as nib\n",
    "import json\n",
    "import pandas as pd\n",
    "from sklearn.model_selection import train_test_split\n",
    "import monai\n",
    "\n",
    "\n",
    "\n",
    "\n",
    "device = torch.device(\"cuda\" if torch.cuda.is_available() else \"cpu\")"
   ]
  },
  {
   "cell_type": "code",
   "execution_count": 14,
   "metadata": {},
   "outputs": [
    {
     "name": "stdout",
     "output_type": "stream",
     "text": [
      "Searching for T1w, T2w, and DWI files in data//data-multi-subject// ...\n",
      "Found 267 T1w files and 267 T2w files.\n"
     ]
    }
   ],
   "source": [
    "# this cell aims at extracting the list of path relevant for the first model test which takes T1w T2w adn DWI as image\n",
    "\n",
    "base_dir=\"data//data-multi-subject//\"\n",
    "\n",
    "desired_extension = \".json\"\n",
    "\n",
    "# Initialize lists to store the relative paths for T1w, T2w, and DWI files\n",
    "t1w_file_paths = []\n",
    "t2w_file_paths = []\n",
    "\n",
    "print(\"Searching for T1w, T2w, and DWI files in\", base_dir, \"...\")\n",
    "\n",
    "# Traverse the directory structure\n",
    "for root, dirs, files in os.walk(base_dir):\n",
    "    # Exclude the \"derivatives\" subfolder\n",
    "    if \"derivatives\" in dirs:\n",
    "        dirs.remove(\"derivatives\")\n",
    "    for file in files:\n",
    "        # Check if the file name contains the desired names\n",
    "        if \"T1w\" in file and file.endswith(desired_extension):\n",
    "            # Get the relative path of the T1w file\n",
    "            relative_path = os.path.relpath(os.path.join(root, file), base_dir)\n",
    "            # Remove the file extension\n",
    "            relative_path = os.path.splitext(base_dir + relative_path)[0] + \".nii.gz\"\n",
    "            # Append the relative path to the T1w file paths list\n",
    "            t1w_file_paths.append(relative_path)\n",
    "        elif \"T2w\" in file and file.endswith(desired_extension):\n",
    "            # Get the relative path of the T2w file\n",
    "            relative_path = os.path.relpath(os.path.join(root, file), base_dir)\n",
    "            # Remove the file extension\n",
    "            relative_path = os.path.splitext(relative_path)[0] + \".nii.gz\"\n",
    "            # Append the relative path to the T2w file paths list\n",
    "            t2w_file_paths.append(base_dir + relative_path)\n",
    "\n",
    "#t1w_file_paths = t1w_file_paths[:20]\n",
    "#t2w_file_paths = t2w_file_paths[:20]\n",
    "\n",
    "print(\"Found\", len(t1w_file_paths), \"T1w files and\", len(t2w_file_paths), \"T2w files.\")"
   ]
  },
  {
   "cell_type": "code",
   "execution_count": 15,
   "metadata": {},
   "outputs": [],
   "source": [
    "# split the data into training and validation sets\n",
    "\n",
    "# build a dataset with a colmn \"file path\" wich contiains the paths listed in both t1w_file_paths and t2w_file_paths\n",
    "path_data = pd.DataFrame({\"image_path\" : t1w_file_paths + t2w_file_paths, \"labels\" : len(t1w_file_paths) * [0] + len(t2w_file_paths) * [1]})\n",
    "\n",
    "train_data, val_data = train_test_split(path_data, test_size=0.2, random_state=0)\n",
    "train_data.reset_index(drop=True, inplace=True)\n",
    "val_data.reset_index(drop=True, inplace=True)\n",
    "\n"
   ]
  },
  {
   "cell_type": "code",
   "execution_count": 16,
   "metadata": {},
   "outputs": [
    {
     "ename": "MemoryError",
     "evalue": "",
     "output_type": "error",
     "traceback": [
      "\u001b[1;31m---------------------------------------------------------------------------\u001b[0m",
      "\u001b[1;31mMemoryError\u001b[0m                               Traceback (most recent call last)",
      "Cell \u001b[1;32mIn[16], line 52\u001b[0m\n\u001b[0;32m     45\u001b[0m \u001b[38;5;124;03m\"\"\"val_transforms = Compose(\u001b[39;00m\n\u001b[0;32m     46\u001b[0m \u001b[38;5;124;03m    [\u001b[39;00m\n\u001b[0;32m     47\u001b[0m \u001b[38;5;124;03m        LoadImage(image_only=True, ensure_channel_first=True),\u001b[39;00m\n\u001b[0;32m     48\u001b[0m \u001b[38;5;124;03m    ]\u001b[39;00m\n\u001b[0;32m     49\u001b[0m \u001b[38;5;124;03m)\"\"\"\u001b[39;00m\n\u001b[0;32m     51\u001b[0m \u001b[38;5;66;03m# Create the custom datasets\u001b[39;00m\n\u001b[1;32m---> 52\u001b[0m train_dataset \u001b[38;5;241m=\u001b[39m \u001b[43mDataset_2D\u001b[49m\u001b[43m(\u001b[49m\n\u001b[0;32m     53\u001b[0m \u001b[43m    \u001b[49m\u001b[43mpaths\u001b[49m\u001b[38;5;241;43m=\u001b[39;49m\u001b[43mtrain_data\u001b[49m\u001b[43m[\u001b[49m\u001b[38;5;124;43m'\u001b[39;49m\u001b[38;5;124;43mimage_path\u001b[39;49m\u001b[38;5;124;43m'\u001b[39;49m\u001b[43m]\u001b[49m\u001b[43m,\u001b[49m\n\u001b[0;32m     54\u001b[0m \u001b[43m    \u001b[49m\u001b[43mlabels\u001b[49m\u001b[38;5;241;43m=\u001b[39;49m\u001b[43mtrain_data\u001b[49m\u001b[43m[\u001b[49m\u001b[38;5;124;43m'\u001b[39;49m\u001b[38;5;124;43mlabels\u001b[39;49m\u001b[38;5;124;43m'\u001b[39;49m\u001b[43m]\u001b[49m\u001b[43m,\u001b[49m\n\u001b[0;32m     55\u001b[0m \u001b[43m    \u001b[49m\u001b[43mtransform\u001b[49m\u001b[38;5;241;43m=\u001b[39;49m\u001b[43mtrain_transforms\u001b[49m\u001b[43m,\u001b[49m\n\u001b[0;32m     56\u001b[0m \u001b[43m)\u001b[49m\n\u001b[0;32m     58\u001b[0m val_dataset \u001b[38;5;241m=\u001b[39m Dataset_2D(\n\u001b[0;32m     59\u001b[0m     paths\u001b[38;5;241m=\u001b[39mval_data[\u001b[38;5;124m'\u001b[39m\u001b[38;5;124mimage_path\u001b[39m\u001b[38;5;124m'\u001b[39m],\n\u001b[0;32m     60\u001b[0m     labels\u001b[38;5;241m=\u001b[39mval_data[\u001b[38;5;124m'\u001b[39m\u001b[38;5;124mlabels\u001b[39m\u001b[38;5;124m'\u001b[39m],\n\u001b[0;32m     61\u001b[0m )\n",
      "Cell \u001b[1;32mIn[16], line 4\u001b[0m, in \u001b[0;36mDataset_2D.__init__\u001b[1;34m(self, paths, labels, transform)\u001b[0m\n\u001b[0;32m      3\u001b[0m \u001b[38;5;28;01mdef\u001b[39;00m \u001b[38;5;21m__init__\u001b[39m(\u001b[38;5;28mself\u001b[39m, paths, labels, transform\u001b[38;5;241m=\u001b[39m\u001b[38;5;28;01mNone\u001b[39;00m):\n\u001b[1;32m----> 4\u001b[0m     \u001b[38;5;28mself\u001b[39m\u001b[38;5;241m.\u001b[39mdata \u001b[38;5;241m=\u001b[39m {\u001b[38;5;124m\"\u001b[39m\u001b[38;5;124m3D_image\u001b[39m\u001b[38;5;124m\"\u001b[39m : [LoadImage(image_only\u001b[38;5;241m=\u001b[39m\u001b[38;5;28;01mTrue\u001b[39;00m, ensure_channel_first\u001b[38;5;241m=\u001b[39m\u001b[38;5;28;01mTrue\u001b[39;00m)(path) \u001b[38;5;28;01mfor\u001b[39;00m path \u001b[38;5;129;01min\u001b[39;00m paths], \u001b[38;5;124m\"\u001b[39m\u001b[38;5;124mlabels\u001b[39m\u001b[38;5;124m\"\u001b[39m : labels}\n\u001b[0;32m      5\u001b[0m     \u001b[38;5;28mself\u001b[39m\u001b[38;5;241m.\u001b[39mtransform \u001b[38;5;241m=\u001b[39m transform\n\u001b[0;32m      6\u001b[0m     \u001b[38;5;28mself\u001b[39m\u001b[38;5;241m.\u001b[39mlength \u001b[38;5;241m=\u001b[39m \u001b[38;5;28mlen\u001b[39m(\u001b[38;5;28mself\u001b[39m\u001b[38;5;241m.\u001b[39mdata[\u001b[38;5;124m\"\u001b[39m\u001b[38;5;124mpaths\u001b[39m\u001b[38;5;124m\"\u001b[39m])\n",
      "Cell \u001b[1;32mIn[16], line 4\u001b[0m, in \u001b[0;36m<listcomp>\u001b[1;34m(.0)\u001b[0m\n\u001b[0;32m      3\u001b[0m \u001b[38;5;28;01mdef\u001b[39;00m \u001b[38;5;21m__init__\u001b[39m(\u001b[38;5;28mself\u001b[39m, paths, labels, transform\u001b[38;5;241m=\u001b[39m\u001b[38;5;28;01mNone\u001b[39;00m):\n\u001b[1;32m----> 4\u001b[0m     \u001b[38;5;28mself\u001b[39m\u001b[38;5;241m.\u001b[39mdata \u001b[38;5;241m=\u001b[39m {\u001b[38;5;124m\"\u001b[39m\u001b[38;5;124m3D_image\u001b[39m\u001b[38;5;124m\"\u001b[39m : [\u001b[43mLoadImage\u001b[49m\u001b[43m(\u001b[49m\u001b[43mimage_only\u001b[49m\u001b[38;5;241;43m=\u001b[39;49m\u001b[38;5;28;43;01mTrue\u001b[39;49;00m\u001b[43m,\u001b[49m\u001b[43m \u001b[49m\u001b[43mensure_channel_first\u001b[49m\u001b[38;5;241;43m=\u001b[39;49m\u001b[38;5;28;43;01mTrue\u001b[39;49;00m\u001b[43m)\u001b[49m\u001b[43m(\u001b[49m\u001b[43mpath\u001b[49m\u001b[43m)\u001b[49m \u001b[38;5;28;01mfor\u001b[39;00m path \u001b[38;5;129;01min\u001b[39;00m paths], \u001b[38;5;124m\"\u001b[39m\u001b[38;5;124mlabels\u001b[39m\u001b[38;5;124m\"\u001b[39m : labels}\n\u001b[0;32m      5\u001b[0m     \u001b[38;5;28mself\u001b[39m\u001b[38;5;241m.\u001b[39mtransform \u001b[38;5;241m=\u001b[39m transform\n\u001b[0;32m      6\u001b[0m     \u001b[38;5;28mself\u001b[39m\u001b[38;5;241m.\u001b[39mlength \u001b[38;5;241m=\u001b[39m \u001b[38;5;28mlen\u001b[39m(\u001b[38;5;28mself\u001b[39m\u001b[38;5;241m.\u001b[39mdata[\u001b[38;5;124m\"\u001b[39m\u001b[38;5;124mpaths\u001b[39m\u001b[38;5;124m\"\u001b[39m])\n",
      "File \u001b[1;32mc:\\Users\\bapti\\AppData\\Local\\Programs\\Python\\Python310\\lib\\site-packages\\monai\\transforms\\io\\array.py:282\u001b[0m, in \u001b[0;36mLoadImage.__call__\u001b[1;34m(self, filename, reader)\u001b[0m\n\u001b[0;32m    274\u001b[0m     \u001b[38;5;28;01mraise\u001b[39;00m \u001b[38;5;167;01mRuntimeError\u001b[39;00m(\n\u001b[0;32m    275\u001b[0m         \u001b[38;5;124mf\u001b[39m\u001b[38;5;124m\"\u001b[39m\u001b[38;5;132;01m{\u001b[39;00m\u001b[38;5;28mself\u001b[39m\u001b[38;5;241m.\u001b[39m\u001b[38;5;18m__class__\u001b[39m\u001b[38;5;241m.\u001b[39m\u001b[38;5;18m__name__\u001b[39m\u001b[38;5;132;01m}\u001b[39;00m\u001b[38;5;124m cannot find a suitable reader for file: \u001b[39m\u001b[38;5;132;01m{\u001b[39;00mfilename\u001b[38;5;132;01m}\u001b[39;00m\u001b[38;5;124m.\u001b[39m\u001b[38;5;130;01m\\n\u001b[39;00m\u001b[38;5;124m\"\u001b[39m\n\u001b[0;32m    276\u001b[0m         \u001b[38;5;124m\"\u001b[39m\u001b[38;5;124m    Please install the reader libraries, see also the installation instructions:\u001b[39m\u001b[38;5;130;01m\\n\u001b[39;00m\u001b[38;5;124m\"\u001b[39m\n\u001b[0;32m    277\u001b[0m         \u001b[38;5;124m\"\u001b[39m\u001b[38;5;124m    https://docs.monai.io/en/latest/installation.html#installing-the-recommended-dependencies.\u001b[39m\u001b[38;5;130;01m\\n\u001b[39;00m\u001b[38;5;124m\"\u001b[39m\n\u001b[0;32m    278\u001b[0m         \u001b[38;5;124mf\u001b[39m\u001b[38;5;124m\"\u001b[39m\u001b[38;5;124m   The current registered: \u001b[39m\u001b[38;5;132;01m{\u001b[39;00m\u001b[38;5;28mself\u001b[39m\u001b[38;5;241m.\u001b[39mreaders\u001b[38;5;132;01m}\u001b[39;00m\u001b[38;5;124m.\u001b[39m\u001b[38;5;130;01m\\n\u001b[39;00m\u001b[38;5;132;01m{\u001b[39;00mmsg\u001b[38;5;132;01m}\u001b[39;00m\u001b[38;5;124m\"\u001b[39m\n\u001b[0;32m    279\u001b[0m     )\n\u001b[0;32m    281\u001b[0m img_array: NdarrayOrTensor\n\u001b[1;32m--> 282\u001b[0m img_array, meta_data \u001b[38;5;241m=\u001b[39m \u001b[43mreader\u001b[49m\u001b[38;5;241;43m.\u001b[39;49m\u001b[43mget_data\u001b[49m\u001b[43m(\u001b[49m\u001b[43mimg\u001b[49m\u001b[43m)\u001b[49m\n\u001b[0;32m    283\u001b[0m img_array \u001b[38;5;241m=\u001b[39m convert_to_dst_type(img_array, dst\u001b[38;5;241m=\u001b[39mimg_array, dtype\u001b[38;5;241m=\u001b[39m\u001b[38;5;28mself\u001b[39m\u001b[38;5;241m.\u001b[39mdtype)[\u001b[38;5;241m0\u001b[39m]\n\u001b[0;32m    284\u001b[0m \u001b[38;5;28;01mif\u001b[39;00m \u001b[38;5;129;01mnot\u001b[39;00m \u001b[38;5;28misinstance\u001b[39m(meta_data, \u001b[38;5;28mdict\u001b[39m):\n",
      "File \u001b[1;32mc:\\Users\\bapti\\AppData\\Local\\Programs\\Python\\Python310\\lib\\site-packages\\monai\\data\\image_reader.py:938\u001b[0m, in \u001b[0;36mNibabelReader.get_data\u001b[1;34m(self, img)\u001b[0m\n\u001b[0;32m    936\u001b[0m header[MetaKeys\u001b[38;5;241m.\u001b[39mSPATIAL_SHAPE] \u001b[38;5;241m=\u001b[39m \u001b[38;5;28mself\u001b[39m\u001b[38;5;241m.\u001b[39m_get_spatial_shape(i)\n\u001b[0;32m    937\u001b[0m header[MetaKeys\u001b[38;5;241m.\u001b[39mSPACE] \u001b[38;5;241m=\u001b[39m SpaceKeys\u001b[38;5;241m.\u001b[39mRAS\n\u001b[1;32m--> 938\u001b[0m data \u001b[38;5;241m=\u001b[39m \u001b[38;5;28;43mself\u001b[39;49m\u001b[38;5;241;43m.\u001b[39;49m\u001b[43m_get_array_data\u001b[49m\u001b[43m(\u001b[49m\u001b[43mi\u001b[49m\u001b[43m)\u001b[49m\n\u001b[0;32m    939\u001b[0m \u001b[38;5;28;01mif\u001b[39;00m \u001b[38;5;28mself\u001b[39m\u001b[38;5;241m.\u001b[39msqueeze_non_spatial_dims:\n\u001b[0;32m    940\u001b[0m     \u001b[38;5;28;01mfor\u001b[39;00m d \u001b[38;5;129;01min\u001b[39;00m \u001b[38;5;28mrange\u001b[39m(\u001b[38;5;28mlen\u001b[39m(data\u001b[38;5;241m.\u001b[39mshape), \u001b[38;5;28mlen\u001b[39m(header[MetaKeys\u001b[38;5;241m.\u001b[39mSPATIAL_SHAPE]), \u001b[38;5;241m-\u001b[39m\u001b[38;5;241m1\u001b[39m):\n",
      "File \u001b[1;32mc:\\Users\\bapti\\AppData\\Local\\Programs\\Python\\Python310\\lib\\site-packages\\monai\\data\\image_reader.py:1012\u001b[0m, in \u001b[0;36mNibabelReader._get_array_data\u001b[1;34m(self, img)\u001b[0m\n\u001b[0;32m   1004\u001b[0m \u001b[38;5;28;01mdef\u001b[39;00m \u001b[38;5;21m_get_array_data\u001b[39m(\u001b[38;5;28mself\u001b[39m, img):\n\u001b[0;32m   1005\u001b[0m \u001b[38;5;250m    \u001b[39m\u001b[38;5;124;03m\"\"\"\u001b[39;00m\n\u001b[0;32m   1006\u001b[0m \u001b[38;5;124;03m    Get the raw array data of the image, converted to Numpy array.\u001b[39;00m\n\u001b[0;32m   1007\u001b[0m \n\u001b[1;32m   (...)\u001b[0m\n\u001b[0;32m   1010\u001b[0m \n\u001b[0;32m   1011\u001b[0m \u001b[38;5;124;03m    \"\"\"\u001b[39;00m\n\u001b[1;32m-> 1012\u001b[0m     \u001b[38;5;28;01mreturn\u001b[39;00m \u001b[43mnp\u001b[49m\u001b[38;5;241;43m.\u001b[39;49m\u001b[43masanyarray\u001b[49m\u001b[43m(\u001b[49m\u001b[43mimg\u001b[49m\u001b[38;5;241;43m.\u001b[39;49m\u001b[43mdataobj\u001b[49m\u001b[43m,\u001b[49m\u001b[43m \u001b[49m\u001b[43morder\u001b[49m\u001b[38;5;241;43m=\u001b[39;49m\u001b[38;5;124;43m\"\u001b[39;49m\u001b[38;5;124;43mC\u001b[39;49m\u001b[38;5;124;43m\"\u001b[39;49m\u001b[43m)\u001b[49m\n",
      "File \u001b[1;32mc:\\Users\\bapti\\AppData\\Local\\Programs\\Python\\Python310\\lib\\site-packages\\nibabel\\arrayproxy.py:457\u001b[0m, in \u001b[0;36mArrayProxy.__array__\u001b[1;34m(self, dtype)\u001b[0m\n\u001b[0;32m    436\u001b[0m \u001b[38;5;28;01mdef\u001b[39;00m \u001b[38;5;21m__array__\u001b[39m(\u001b[38;5;28mself\u001b[39m, dtype\u001b[38;5;241m=\u001b[39m\u001b[38;5;28;01mNone\u001b[39;00m):\n\u001b[0;32m    437\u001b[0m \u001b[38;5;250m    \u001b[39m\u001b[38;5;124;03m\"\"\"Read data from file and apply scaling, casting to ``dtype``\u001b[39;00m\n\u001b[0;32m    438\u001b[0m \n\u001b[0;32m    439\u001b[0m \u001b[38;5;124;03m    If ``dtype`` is unspecified, the dtype of the returned array is the\u001b[39;00m\n\u001b[1;32m   (...)\u001b[0m\n\u001b[0;32m    455\u001b[0m \u001b[38;5;124;03m        Scaled image data with type `dtype`.\u001b[39;00m\n\u001b[0;32m    456\u001b[0m \u001b[38;5;124;03m    \"\"\"\u001b[39;00m\n\u001b[1;32m--> 457\u001b[0m     arr \u001b[38;5;241m=\u001b[39m \u001b[38;5;28;43mself\u001b[39;49m\u001b[38;5;241;43m.\u001b[39;49m\u001b[43m_get_scaled\u001b[49m\u001b[43m(\u001b[49m\u001b[43mdtype\u001b[49m\u001b[38;5;241;43m=\u001b[39;49m\u001b[43mdtype\u001b[49m\u001b[43m,\u001b[49m\u001b[43m \u001b[49m\u001b[43mslicer\u001b[49m\u001b[38;5;241;43m=\u001b[39;49m\u001b[43m(\u001b[49m\u001b[43m)\u001b[49m\u001b[43m)\u001b[49m\n\u001b[0;32m    458\u001b[0m     \u001b[38;5;28;01mif\u001b[39;00m dtype \u001b[38;5;129;01mis\u001b[39;00m \u001b[38;5;129;01mnot\u001b[39;00m \u001b[38;5;28;01mNone\u001b[39;00m:\n\u001b[0;32m    459\u001b[0m         arr \u001b[38;5;241m=\u001b[39m arr\u001b[38;5;241m.\u001b[39mastype(dtype, copy\u001b[38;5;241m=\u001b[39m\u001b[38;5;28;01mFalse\u001b[39;00m)\n",
      "File \u001b[1;32mc:\\Users\\bapti\\AppData\\Local\\Programs\\Python\\Python310\\lib\\site-packages\\nibabel\\arrayproxy.py:424\u001b[0m, in \u001b[0;36mArrayProxy._get_scaled\u001b[1;34m(self, dtype, slicer)\u001b[0m\n\u001b[0;32m    422\u001b[0m     scl_inter \u001b[38;5;241m=\u001b[39m scl_inter\u001b[38;5;241m.\u001b[39mastype(use_dtype)\n\u001b[0;32m    423\u001b[0m \u001b[38;5;66;03m# Read array and upcast as necessary for big slopes, intercepts\u001b[39;00m\n\u001b[1;32m--> 424\u001b[0m scaled \u001b[38;5;241m=\u001b[39m apply_read_scaling(\u001b[38;5;28;43mself\u001b[39;49m\u001b[38;5;241;43m.\u001b[39;49m\u001b[43m_get_unscaled\u001b[49m\u001b[43m(\u001b[49m\u001b[43mslicer\u001b[49m\u001b[38;5;241;43m=\u001b[39;49m\u001b[43mslicer\u001b[49m\u001b[43m)\u001b[49m, scl_slope, scl_inter)\n\u001b[0;32m    425\u001b[0m \u001b[38;5;28;01mif\u001b[39;00m dtype \u001b[38;5;129;01mis\u001b[39;00m \u001b[38;5;129;01mnot\u001b[39;00m \u001b[38;5;28;01mNone\u001b[39;00m:\n\u001b[0;32m    426\u001b[0m     scaled \u001b[38;5;241m=\u001b[39m scaled\u001b[38;5;241m.\u001b[39mastype(np\u001b[38;5;241m.\u001b[39mpromote_types(scaled\u001b[38;5;241m.\u001b[39mdtype, dtype), copy\u001b[38;5;241m=\u001b[39m\u001b[38;5;28;01mFalse\u001b[39;00m)\n",
      "File \u001b[1;32mc:\\Users\\bapti\\AppData\\Local\\Programs\\Python\\Python310\\lib\\site-packages\\nibabel\\arrayproxy.py:394\u001b[0m, in \u001b[0;36mArrayProxy._get_unscaled\u001b[1;34m(self, slicer)\u001b[0m\n\u001b[0;32m    390\u001b[0m \u001b[38;5;28;01mif\u001b[39;00m canonical_slicers(slicer, \u001b[38;5;28mself\u001b[39m\u001b[38;5;241m.\u001b[39m_shape, \u001b[38;5;28;01mFalse\u001b[39;00m) \u001b[38;5;241m==\u001b[39m canonical_slicers(\n\u001b[0;32m    391\u001b[0m     (), \u001b[38;5;28mself\u001b[39m\u001b[38;5;241m.\u001b[39m_shape, \u001b[38;5;28;01mFalse\u001b[39;00m\n\u001b[0;32m    392\u001b[0m ):\n\u001b[0;32m    393\u001b[0m     \u001b[38;5;28;01mwith\u001b[39;00m \u001b[38;5;28mself\u001b[39m\u001b[38;5;241m.\u001b[39m_get_fileobj() \u001b[38;5;28;01mas\u001b[39;00m fileobj, \u001b[38;5;28mself\u001b[39m\u001b[38;5;241m.\u001b[39m_lock:\n\u001b[1;32m--> 394\u001b[0m         \u001b[38;5;28;01mreturn\u001b[39;00m \u001b[43marray_from_file\u001b[49m\u001b[43m(\u001b[49m\n\u001b[0;32m    395\u001b[0m \u001b[43m            \u001b[49m\u001b[38;5;28;43mself\u001b[39;49m\u001b[38;5;241;43m.\u001b[39;49m\u001b[43m_shape\u001b[49m\u001b[43m,\u001b[49m\n\u001b[0;32m    396\u001b[0m \u001b[43m            \u001b[49m\u001b[38;5;28;43mself\u001b[39;49m\u001b[38;5;241;43m.\u001b[39;49m\u001b[43m_dtype\u001b[49m\u001b[43m,\u001b[49m\n\u001b[0;32m    397\u001b[0m \u001b[43m            \u001b[49m\u001b[43mfileobj\u001b[49m\u001b[43m,\u001b[49m\n\u001b[0;32m    398\u001b[0m \u001b[43m            \u001b[49m\u001b[43moffset\u001b[49m\u001b[38;5;241;43m=\u001b[39;49m\u001b[38;5;28;43mself\u001b[39;49m\u001b[38;5;241;43m.\u001b[39;49m\u001b[43m_offset\u001b[49m\u001b[43m,\u001b[49m\n\u001b[0;32m    399\u001b[0m \u001b[43m            \u001b[49m\u001b[43morder\u001b[49m\u001b[38;5;241;43m=\u001b[39;49m\u001b[38;5;28;43mself\u001b[39;49m\u001b[38;5;241;43m.\u001b[39;49m\u001b[43morder\u001b[49m\u001b[43m,\u001b[49m\n\u001b[0;32m    400\u001b[0m \u001b[43m            \u001b[49m\u001b[43mmmap\u001b[49m\u001b[38;5;241;43m=\u001b[39;49m\u001b[38;5;28;43mself\u001b[39;49m\u001b[38;5;241;43m.\u001b[39;49m\u001b[43m_mmap\u001b[49m\u001b[43m,\u001b[49m\n\u001b[0;32m    401\u001b[0m \u001b[43m        \u001b[49m\u001b[43m)\u001b[49m\n\u001b[0;32m    402\u001b[0m \u001b[38;5;28;01mwith\u001b[39;00m \u001b[38;5;28mself\u001b[39m\u001b[38;5;241m.\u001b[39m_get_fileobj() \u001b[38;5;28;01mas\u001b[39;00m fileobj:\n\u001b[0;32m    403\u001b[0m     \u001b[38;5;28;01mreturn\u001b[39;00m fileslice(\n\u001b[0;32m    404\u001b[0m         fileobj,\n\u001b[0;32m    405\u001b[0m         slicer,\n\u001b[1;32m   (...)\u001b[0m\n\u001b[0;32m    410\u001b[0m         lock\u001b[38;5;241m=\u001b[39m\u001b[38;5;28mself\u001b[39m\u001b[38;5;241m.\u001b[39m_lock,\n\u001b[0;32m    411\u001b[0m     )\n",
      "File \u001b[1;32mc:\\Users\\bapti\\AppData\\Local\\Programs\\Python\\Python310\\lib\\site-packages\\nibabel\\volumeutils.py:465\u001b[0m, in \u001b[0;36marray_from_file\u001b[1;34m(shape, in_dtype, infile, offset, order, mmap)\u001b[0m\n\u001b[0;32m    463\u001b[0m \u001b[38;5;28;01mif\u001b[39;00m \u001b[38;5;28mhasattr\u001b[39m(infile, \u001b[38;5;124m'\u001b[39m\u001b[38;5;124mreadinto\u001b[39m\u001b[38;5;124m'\u001b[39m):\n\u001b[0;32m    464\u001b[0m     data_bytes \u001b[38;5;241m=\u001b[39m \u001b[38;5;28mbytearray\u001b[39m(n_bytes)\n\u001b[1;32m--> 465\u001b[0m     n_read \u001b[38;5;241m=\u001b[39m \u001b[43minfile\u001b[49m\u001b[38;5;241;43m.\u001b[39;49m\u001b[43mreadinto\u001b[49m\u001b[43m(\u001b[49m\u001b[43mdata_bytes\u001b[49m\u001b[43m)\u001b[49m\n\u001b[0;32m    466\u001b[0m     needs_copy \u001b[38;5;241m=\u001b[39m \u001b[38;5;28;01mFalse\u001b[39;00m\n\u001b[0;32m    467\u001b[0m \u001b[38;5;28;01melse\u001b[39;00m:\n",
      "File \u001b[1;32mc:\\Users\\bapti\\AppData\\Local\\Programs\\Python\\Python310\\lib\\gzip.py:301\u001b[0m, in \u001b[0;36mGzipFile.read\u001b[1;34m(self, size)\u001b[0m\n\u001b[0;32m    299\u001b[0m     \u001b[38;5;28;01mimport\u001b[39;00m \u001b[38;5;21;01merrno\u001b[39;00m\n\u001b[0;32m    300\u001b[0m     \u001b[38;5;28;01mraise\u001b[39;00m \u001b[38;5;167;01mOSError\u001b[39;00m(errno\u001b[38;5;241m.\u001b[39mEBADF, \u001b[38;5;124m\"\u001b[39m\u001b[38;5;124mread() on write-only GzipFile object\u001b[39m\u001b[38;5;124m\"\u001b[39m)\n\u001b[1;32m--> 301\u001b[0m \u001b[38;5;28;01mreturn\u001b[39;00m \u001b[38;5;28;43mself\u001b[39;49m\u001b[38;5;241;43m.\u001b[39;49m\u001b[43m_buffer\u001b[49m\u001b[38;5;241;43m.\u001b[39;49m\u001b[43mread\u001b[49m\u001b[43m(\u001b[49m\u001b[43msize\u001b[49m\u001b[43m)\u001b[49m\n",
      "\u001b[1;31mMemoryError\u001b[0m: "
     ]
    }
   ],
   "source": [
    "# Define a custom dataset class\n",
    "class Dataset_2D(Dataset):\n",
    "    def __init__(self, paths, labels, transform=None):\n",
    "        self.data = {\"paths\" : paths, \"labels\" : labels}\n",
    "        self.transform = transform\n",
    "        self.length = len(self.data[\"paths\"])\n",
    "\n",
    "    def __len__(self):\n",
    "        return len(self.data)\n",
    "\n",
    "    def __getitem__(self, index):\n",
    "        path = self.data[\"paths\"][index]\n",
    "        label = [0,1] if self.data[\"labels\"][index] else [1,0]\n",
    "        if self.transform:\n",
    "            image = self.transform(path)\n",
    "            dim_to_squeeze = int(np.random.choice([0,1,2]))\n",
    "            roi_min = np.array([15, 15, 15])\n",
    "            roi_max = np.array([-1, -1, -1])\n",
    "            roi_min[dim_to_squeeze] = 1\n",
    "            roi_max[dim_to_squeeze] = 1\n",
    "            image = RandSpatialCrop(roi_min,  max_roi_size = roi_max, random_size=True, random_center=True)(image)\n",
    "            image = SqueezeDim(dim=dim_to_squeeze + 1)(image)\n",
    "            # Convert to tensor\n",
    "            image = ToTensor()(image)\n",
    "            # add a dimension to the image, for exemple [1, 256, 256] -> [1, 1, 256, 256]\n",
    "            image = image.unsqueeze(0)\n",
    "\n",
    "        # convert label list to tensor with shape [1,2]\n",
    "        label = torch.tensor([label])\n",
    "        return image, label\n",
    "    \n",
    "# use monai to define the transforms for data augmentation\n",
    "# perform the following transformations : rotation (random between +3° and -3°), flipping (random between 0°,  90 °, 180° and 270°), cropping (Random size, random place) and shifting (random shift)\n",
    "\n",
    "train_transforms = Compose(\n",
    "    [\n",
    "        LoadImage(image_only=True, ensure_channel_first=True),\n",
    "        RandRotate90(prob=0.5),\n",
    "        RandFlip(prob=0.5),\n",
    "        RandShiftIntensity(offsets=0.1, prob=0.5),\n",
    "        RandRotate(range_x=3, range_y=3, range_z=3, prob=0.2),\n",
    "        \n",
    "    ]\n",
    ")\n",
    "\n",
    "val_transforms = Compose(\n",
    "    [\n",
    "        LoadImage(image_only=True, ensure_channel_first=True),\n",
    "    ]\n",
    ")\n",
    "\n",
    "# Create the custom datasets\n",
    "train_dataset = Dataset_2D(\n",
    "    paths=train_data['image_path'],\n",
    "    labels=train_data['labels'],\n",
    "    transform=train_transforms,\n",
    ")\n",
    "\n",
    "val_dataset = Dataset_2D(\n",
    "    paths=val_data['image_path'],\n",
    "    labels=val_data['labels'],\n",
    "    transform=val_transforms,\n",
    ")\n"
   ]
  },
  {
   "cell_type": "code",
   "execution_count": null,
   "metadata": {},
   "outputs": [
    {
     "name": "stdout",
     "output_type": "stream",
     "text": [
      "Index: 25\n",
      "torch.Size([1, 1, 199, 57]) tensor([[0, 1]])\n"
     ]
    },
    {
     "data": {
      "image/png": "[encoded data removed]",
      "text/plain": [
       "<Figure size 640x480 with 1 Axes>"
      ]
     },
     "metadata": {},
     "output_type": "display_data"
    }
   ],
   "source": [
    "# get an image\n",
    "i = np.random.randint(0, train_dataset.length)\n",
    "print(\"Index:\", i)\n",
    "image, label = train_dataset[i]\n",
    "print(image.shape, label)\n",
    "\n",
    "#show image in black and white\n",
    "import matplotlib.pyplot as plt\n",
    "plt.imshow(image[0, 0], cmap='gray')\n",
    "plt.show()\n",
    "\n",
    "\n"
   ]
  },
  {
   "cell_type": "code",
   "execution_count": null,
   "metadata": {},
   "outputs": [
    {
     "name": "stderr",
     "output_type": "stream",
     "text": [
      "c:\\Users\\bapti\\AppData\\Local\\Programs\\Python\\Python310\\lib\\site-packages\\torchvision\\models\\_utils.py:208: UserWarning: The parameter 'pretrained' is deprecated since 0.13 and may be removed in the future, please use 'weights' instead.\n",
      "  warnings.warn(\n",
      "c:\\Users\\bapti\\AppData\\Local\\Programs\\Python\\Python310\\lib\\site-packages\\torchvision\\models\\_utils.py:223: UserWarning: Arguments other than a weight enum or `None` for 'weights' are deprecated since 0.13 and may be removed in the future. The current behavior is equivalent to passing `weights=ResNet18_Weights.IMAGENET1K_V1`. You can also use `weights=ResNet18_Weights.DEFAULT` to get the most up-to-date weights.\n",
      "  warnings.warn(msg)\n"
     ]
    },
    {
     "name": "stdout",
     "output_type": "stream",
     "text": [
      "metatensor([[[[1.0081e+02, 1.4531e+02, 2.6624e+02,  ..., 1.8032e+01,\n",
      "           2.1112e+01, 2.0192e+01],\n",
      "          [3.8204e+01, 8.3076e+01, 1.9133e+02,  ..., 1.3310e+01,\n",
      "           1.8546e+01, 1.3951e+01],\n",
      "          [3.8879e+01, 1.2078e+02, 2.2594e+02,  ..., 1.2230e+01,\n",
      "           1.8464e+01, 1.3406e+01],\n",
      "          ...,\n",
      "          [8.7750e-02, 8.7750e-02, 8.7750e-02,  ..., 8.7750e-02,\n",
      "           8.7750e-02, 8.7750e-02],\n",
      "          [8.7750e-02, 8.7750e-02, 8.7750e-02,  ..., 8.7750e-02,\n",
      "           8.7750e-02, 8.7750e-02],\n",
      "          [8.7750e-02, 8.7750e-02, 8.7750e-02,  ..., 8.7750e-02,\n",
      "           8.7750e-02, 8.7750e-02]]]])\n",
      "metatensor([[0.4757, 0.4933]], grad_fn=<AliasBackward0>)\n"
     ]
    }
   ],
   "source": [
    "class ResNet18SingleChannel(nn.Module):\n",
    "    # Define the ResNet18 model with a single image channel and an output value between 0 and 1\n",
    "    def __init__(self, num_classes=2):\n",
    "        super(ResNet18SingleChannel, self).__init__()\n",
    "        # Load the pre-trained ResNet18 model\n",
    "        resnet = models.resnet18(pretrained=False)\n",
    "        # Modify the first convolutional layer to take a single channel input\n",
    "        resnet.conv1 = nn.Conv2d(1, 64, kernel_size=7, stride=1, padding=3, bias=False)\n",
    "        # Modify the final fully connected layer to output a single value\n",
    "\n",
    "        self.resnet = resnet\n",
    "\n",
    "        #final fc to go from [batch_size, 1000] to [batch_size, num_classes]\n",
    "        self.fc = nn.Linear(1000, num_classes)\n",
    "\n",
    "    def forward(self, x):\n",
    "        x = self.resnet(x)\n",
    "        x = self.fc(x)\n",
    "        x = torch.sigmoid(x)\n",
    "        return x\n",
    "\n",
    "model = ResNet18SingleChannel(num_classes=2).to(device)\n",
    "\n",
    "image, label = train_dataset[0]\n",
    "print(image)\n",
    "output = model.forward(image.to(device))\n",
    "print(output)"
   ]
  },
  {
   "cell_type": "code",
   "execution_count": null,
   "metadata": {},
   "outputs": [
    {
     "name": "stdout",
     "output_type": "stream",
     "text": [
      "Epoch 1 / 10\n",
      "0\n",
      "20\n",
      "40\n",
      "60\n",
      "80\n",
      "100\n",
      "120\n",
      "140\n",
      "160\n"
     ]
    },
    {
     "name": "stderr",
     "output_type": "stream",
     "text": [
      "c:\\Users\\bapti\\AppData\\Local\\Programs\\Python\\Python310\\lib\\site-packages\\monai\\transforms\\utility\\array.py:597: UserWarning: After SqueezeDim, img.affine is ill-posed: \n",
      "tensor([[ 0.0000e+00,  1.2637e-02, -7.9990e-01,  1.7467e+01],\n",
      "        [ 8.0000e-01,  0.0000e+00,  0.0000e+00, -5.3974e+01],\n",
      "        [ 0.0000e+00, -7.9990e-01, -1.2637e-02,  1.0939e+02],\n",
      "        [ 0.0000e+00,  0.0000e+00,  0.0000e+00,  1.0000e+00]],\n",
      "       dtype=torch.float64).\n",
      "  warnings.warn(f\"After SqueezeDim, img.affine is ill-posed: \\n{img.affine}.\")\n"
     ]
    },
    {
     "name": "stdout",
     "output_type": "stream",
     "text": [
      "180\n",
      "200\n",
      "220\n",
      "240\n",
      "260\n",
      "280\n",
      "300\n",
      "320\n",
      "340\n",
      "360\n",
      "380\n",
      "400\n",
      "420\n",
      "Epoch 1 training loss: 168.90784683264792\n",
      "Epoch 2 / 10\n",
      "0\n",
      "20\n",
      "40\n",
      "60\n",
      "80\n",
      "100\n",
      "120\n",
      "140\n",
      "160\n",
      "180\n",
      "200\n",
      "220\n",
      "240\n",
      "260\n",
      "280\n"
     ]
    },
    {
     "name": "stderr",
     "output_type": "stream",
     "text": [
      "c:\\Users\\bapti\\AppData\\Local\\Programs\\Python\\Python310\\lib\\site-packages\\monai\\transforms\\utility\\array.py:597: UserWarning: After SqueezeDim, img.affine is ill-posed: \n",
      "tensor([[ 0.0000e+00, -2.7249e-02, -9.9902e-01,  8.4350e+01],\n",
      "        [ 1.0000e+00,  0.0000e+00,  0.0000e+00, -9.6476e+01],\n",
      "        [ 0.0000e+00, -9.9963e-01,  2.7232e-02,  9.9760e+01],\n",
      "        [ 0.0000e+00,  0.0000e+00,  0.0000e+00,  1.0000e+00]],\n",
      "       dtype=torch.float64).\n",
      "  warnings.warn(f\"After SqueezeDim, img.affine is ill-posed: \\n{img.affine}.\")\n"
     ]
    },
    {
     "name": "stdout",
     "output_type": "stream",
     "text": [
      "300\n",
      "320\n",
      "340\n",
      "360\n",
      "380\n",
      "400\n",
      "420\n",
      "Epoch 2 training loss: 155.28554075956345\n",
      "Epoch 3 / 10\n",
      "0\n",
      "20\n",
      "40\n",
      "60\n",
      "80\n",
      "100\n",
      "120\n"
     ]
    },
    {
     "name": "stderr",
     "output_type": "stream",
     "text": [
      "c:\\Users\\bapti\\AppData\\Local\\Programs\\Python\\Python310\\lib\\site-packages\\monai\\transforms\\utility\\array.py:597: UserWarning: After SqueezeDim, img.affine is ill-posed: \n",
      "tensor([[ 0.0000e+00,  5.1406e-02, -9.9803e-01,  5.8285e+01],\n",
      "        [ 1.0000e+00,  0.0000e+00,  0.0000e+00, -9.0617e+01],\n",
      "        [ 0.0000e+00, -9.9868e-01, -5.1372e-02,  1.3774e+02],\n",
      "        [ 0.0000e+00,  0.0000e+00,  0.0000e+00,  1.0000e+00]],\n",
      "       dtype=torch.float64).\n",
      "  warnings.warn(f\"After SqueezeDim, img.affine is ill-posed: \\n{img.affine}.\")\n"
     ]
    },
    {
     "name": "stdout",
     "output_type": "stream",
     "text": [
      "140\n",
      "160\n",
      "180\n",
      "200\n",
      "220\n",
      "240\n"
     ]
    },
    {
     "name": "stderr",
     "output_type": "stream",
     "text": [
      "c:\\Users\\bapti\\AppData\\Local\\Programs\\Python\\Python310\\lib\\site-packages\\monai\\transforms\\utility\\array.py:597: UserWarning: After SqueezeDim, img.affine is ill-posed: \n",
      "tensor([[ 0.0000e+00, -2.8356e-02, -9.9960e-01,  1.9031e+01],\n",
      "        [ 1.0002e+00,  0.0000e+00,  0.0000e+00, -1.5052e+02],\n",
      "        [ 0.0000e+00, -9.9982e-01,  2.8350e-02, -9.3122e+01],\n",
      "        [ 0.0000e+00,  0.0000e+00,  0.0000e+00,  1.0000e+00]],\n",
      "       dtype=torch.float64).\n",
      "  warnings.warn(f\"After SqueezeDim, img.affine is ill-posed: \\n{img.affine}.\")\n"
     ]
    },
    {
     "name": "stdout",
     "output_type": "stream",
     "text": [
      "260\n",
      "280\n",
      "300\n"
     ]
    },
    {
     "name": "stderr",
     "output_type": "stream",
     "text": [
      "c:\\Users\\bapti\\AppData\\Local\\Programs\\Python\\Python310\\lib\\site-packages\\monai\\transforms\\utility\\array.py:597: UserWarning: After SqueezeDim, img.affine is ill-posed: \n",
      "tensor([[ 0.0000e+00, -1.2637e-02,  7.9990e-01, -9.7320e+00],\n",
      "        [-8.0000e-01,  0.0000e+00,  0.0000e+00,  6.3626e+01],\n",
      "        [ 0.0000e+00,  7.9990e-01,  1.2637e-02, -9.3465e+01],\n",
      "        [ 0.0000e+00,  0.0000e+00,  0.0000e+00,  1.0000e+00]],\n",
      "       dtype=torch.float64).\n",
      "  warnings.warn(f\"After SqueezeDim, img.affine is ill-posed: \\n{img.affine}.\")\n"
     ]
    },
    {
     "name": "stdout",
     "output_type": "stream",
     "text": [
      "320\n"
     ]
    },
    {
     "name": "stderr",
     "output_type": "stream",
     "text": [
      "c:\\Users\\bapti\\AppData\\Local\\Programs\\Python\\Python310\\lib\\site-packages\\monai\\transforms\\utility\\array.py:597: UserWarning: After SqueezeDim, img.affine is ill-posed: \n",
      "tensor([[ 0.0000e+00, -2.8356e-02, -9.9959e-01,  6.0223e+01],\n",
      "        [ 1.0002e+00,  0.0000e+00,  0.0000e+00, -1.2809e+02],\n",
      "        [ 0.0000e+00, -9.9982e-01,  2.8350e-02,  1.6432e+02],\n",
      "        [ 0.0000e+00,  0.0000e+00,  0.0000e+00,  1.0000e+00]],\n",
      "       dtype=torch.float64).\n",
      "  warnings.warn(f\"After SqueezeDim, img.affine is ill-posed: \\n{img.affine}.\")\n"
     ]
    },
    {
     "name": "stdout",
     "output_type": "stream",
     "text": [
      "340\n"
     ]
    },
    {
     "name": "stderr",
     "output_type": "stream",
     "text": [
      "c:\\Users\\bapti\\AppData\\Local\\Programs\\Python\\Python310\\lib\\site-packages\\monai\\transforms\\utility\\array.py:597: UserWarning: After SqueezeDim, img.affine is ill-posed: \n",
      "tensor([[  0.0000,   0.0348,   0.7992, -30.1656],\n",
      "        [ -0.8000,   0.0000,   0.0000, -16.6130],\n",
      "        [  0.0000,   0.7992,  -0.0348, -14.0190],\n",
      "        [  0.0000,   0.0000,   0.0000,   1.0000]], dtype=torch.float64).\n",
      "  warnings.warn(f\"After SqueezeDim, img.affine is ill-posed: \\n{img.affine}.\")\n"
     ]
    },
    {
     "name": "stdout",
     "output_type": "stream",
     "text": [
      "360\n"
     ]
    },
    {
     "name": "stderr",
     "output_type": "stream",
     "text": [
      "c:\\Users\\bapti\\AppData\\Local\\Programs\\Python\\Python310\\lib\\site-packages\\monai\\transforms\\utility\\array.py:597: UserWarning: After SqueezeDim, img.affine is ill-posed: \n",
      "tensor([[ 0.0000e+00, -1.8870e-02, -7.9978e-01,  2.0160e+01],\n",
      "        [ 8.0000e-01,  0.0000e+00,  0.0000e+00, -8.1209e+01],\n",
      "        [ 0.0000e+00, -7.9978e-01,  1.8870e-02, -5.8565e+01],\n",
      "        [ 0.0000e+00,  0.0000e+00,  0.0000e+00,  1.0000e+00]],\n",
      "       dtype=torch.float64).\n",
      "  warnings.warn(f\"After SqueezeDim, img.affine is ill-posed: \\n{img.affine}.\")\n"
     ]
    },
    {
     "name": "stdout",
     "output_type": "stream",
     "text": [
      "380\n",
      "400\n",
      "420\n",
      "Epoch 3 training loss: 153.3677221685648\n",
      "Epoch 4 / 10\n",
      "0\n",
      "20\n",
      "40\n",
      "60\n",
      "80\n",
      "100\n",
      "120\n",
      "140\n",
      "160\n",
      "180\n",
      "200\n",
      "220\n"
     ]
    },
    {
     "name": "stderr",
     "output_type": "stream",
     "text": [
      "c:\\Users\\bapti\\AppData\\Local\\Programs\\Python\\Python310\\lib\\site-packages\\monai\\transforms\\utility\\array.py:597: UserWarning: After SqueezeDim, img.affine is ill-posed: \n",
      "tensor([[ 0.0000e+00, -2.8356e-02, -9.9960e-01,  2.3465e+01],\n",
      "        [ 1.0002e+00,  0.0000e+00,  0.0000e+00,  1.3597e+02],\n",
      "        [ 0.0000e+00, -9.9982e-01,  2.8350e-02,  4.4503e+01],\n",
      "        [ 0.0000e+00,  0.0000e+00,  0.0000e+00,  1.0000e+00]],\n",
      "       dtype=torch.float64).\n",
      "  warnings.warn(f\"After SqueezeDim, img.affine is ill-posed: \\n{img.affine}.\")\n"
     ]
    },
    {
     "name": "stdout",
     "output_type": "stream",
     "text": [
      "240\n",
      "260\n"
     ]
    },
    {
     "name": "stderr",
     "output_type": "stream",
     "text": [
      "c:\\Users\\bapti\\AppData\\Local\\Programs\\Python\\Python310\\lib\\site-packages\\monai\\transforms\\utility\\array.py:597: UserWarning: After SqueezeDim, img.affine is ill-posed: \n",
      "tensor([[ 0.0000e+00,  2.8356e-02,  9.9959e-01,  7.4657e+01],\n",
      "        [-1.0002e+00,  0.0000e+00,  0.0000e+00,  1.6597e+02],\n",
      "        [ 0.0000e+00,  9.9982e-01, -2.8350e-02,  1.0888e+02],\n",
      "        [ 0.0000e+00,  0.0000e+00,  0.0000e+00,  1.0000e+00]],\n",
      "       dtype=torch.float64).\n",
      "  warnings.warn(f\"After SqueezeDim, img.affine is ill-posed: \\n{img.affine}.\")\n",
      "c:\\Users\\bapti\\AppData\\Local\\Programs\\Python\\Python310\\lib\\site-packages\\monai\\transforms\\utility\\array.py:597: UserWarning: After SqueezeDim, img.affine is ill-posed: \n",
      "tensor([[ 0.0000e+00, -1.8870e-02, -7.9978e-01,  1.8060e+01],\n",
      "        [ 8.0000e-01,  0.0000e+00,  0.0000e+00, -1.2681e+02],\n",
      "        [ 0.0000e+00, -7.9978e-01,  1.8870e-02,  5.5916e+01],\n",
      "        [ 0.0000e+00,  0.0000e+00,  0.0000e+00,  1.0000e+00]],\n",
      "       dtype=torch.float64).\n",
      "  warnings.warn(f\"After SqueezeDim, img.affine is ill-posed: \\n{img.affine}.\")\n"
     ]
    },
    {
     "name": "stdout",
     "output_type": "stream",
     "text": [
      "280\n",
      "300\n",
      "320\n",
      "340\n",
      "360\n",
      "380\n",
      "400\n",
      "420\n",
      "Epoch 4 training loss: 182.06998527787906\n",
      "Epoch 5 / 10\n",
      "0\n",
      "20\n"
     ]
    },
    {
     "name": "stderr",
     "output_type": "stream",
     "text": [
      "c:\\Users\\bapti\\AppData\\Local\\Programs\\Python\\Python310\\lib\\site-packages\\monai\\transforms\\utility\\array.py:597: UserWarning: After SqueezeDim, img.affine is ill-posed: \n",
      "tensor([[ 0.0000e+00, -2.2680e-02, -7.9968e-01,  5.0791e+00],\n",
      "        [ 8.0000e-01,  0.0000e+00,  0.0000e+00, -1.0102e+02],\n",
      "        [ 0.0000e+00, -7.9968e-01,  2.2680e-02,  8.7433e+01],\n",
      "        [ 0.0000e+00,  0.0000e+00,  0.0000e+00,  1.0000e+00]],\n",
      "       dtype=torch.float64).\n",
      "  warnings.warn(f\"After SqueezeDim, img.affine is ill-posed: \\n{img.affine}.\")\n",
      "c:\\Users\\bapti\\AppData\\Local\\Programs\\Python\\Python310\\lib\\site-packages\\monai\\transforms\\utility\\array.py:597: UserWarning: After SqueezeDim, img.affine is ill-posed: \n",
      "tensor([[ 0.0000e+00, -1.8870e-02, -7.9978e-01,  9.5311e+00],\n",
      "        [ 8.0000e-01,  0.0000e+00,  0.0000e+00,  8.1991e+01],\n",
      "        [ 0.0000e+00, -7.9978e-01,  1.8870e-02,  1.3534e+02],\n",
      "        [ 0.0000e+00,  0.0000e+00,  0.0000e+00,  1.0000e+00]],\n",
      "       dtype=torch.float64).\n",
      "  warnings.warn(f\"After SqueezeDim, img.affine is ill-posed: \\n{img.affine}.\")\n"
     ]
    },
    {
     "name": "stdout",
     "output_type": "stream",
     "text": [
      "40\n",
      "60\n",
      "80\n"
     ]
    },
    {
     "name": "stderr",
     "output_type": "stream",
     "text": [
      "c:\\Users\\bapti\\AppData\\Local\\Programs\\Python\\Python310\\lib\\site-packages\\monai\\transforms\\utility\\array.py:597: UserWarning: After SqueezeDim, img.affine is ill-posed: \n",
      "tensor([[ 0.0000e+00,  2.8356e-02,  9.9960e-01, -5.1243e+01],\n",
      "        [-1.0002e+00,  0.0000e+00,  0.0000e+00, -2.8069e+01],\n",
      "        [ 0.0000e+00,  9.9982e-01, -2.8350e-02,  1.6169e+02],\n",
      "        [ 0.0000e+00,  0.0000e+00,  0.0000e+00,  1.0000e+00]],\n",
      "       dtype=torch.float64).\n",
      "  warnings.warn(f\"After SqueezeDim, img.affine is ill-posed: \\n{img.affine}.\")\n"
     ]
    },
    {
     "name": "stdout",
     "output_type": "stream",
     "text": [
      "100\n",
      "120\n",
      "140\n",
      "160\n",
      "180\n",
      "200\n",
      "220\n"
     ]
    },
    {
     "name": "stderr",
     "output_type": "stream",
     "text": [
      "c:\\Users\\bapti\\AppData\\Local\\Programs\\Python\\Python310\\lib\\site-packages\\monai\\transforms\\utility\\array.py:597: UserWarning: After SqueezeDim, img.affine is ill-posed: \n",
      "tensor([[ 0.0000e+00, -5.2965e-03,  1.0000e+00,  2.0865e+01],\n",
      "        [-1.0000e+00,  0.0000e+00,  0.0000e+00,  1.0324e+02],\n",
      "        [ 0.0000e+00,  9.9999e-01,  5.2966e-03,  2.0173e+01],\n",
      "        [ 0.0000e+00,  0.0000e+00,  0.0000e+00,  1.0000e+00]],\n",
      "       dtype=torch.float64).\n",
      "  warnings.warn(f\"After SqueezeDim, img.affine is ill-posed: \\n{img.affine}.\")\n"
     ]
    },
    {
     "name": "stdout",
     "output_type": "stream",
     "text": [
      "240\n",
      "260\n",
      "280\n",
      "300\n",
      "320\n",
      "340\n",
      "360\n",
      "380\n",
      "400\n"
     ]
    },
    {
     "name": "stderr",
     "output_type": "stream",
     "text": [
      "c:\\Users\\bapti\\AppData\\Local\\Programs\\Python\\Python310\\lib\\site-packages\\monai\\transforms\\utility\\array.py:597: UserWarning: After SqueezeDim, img.affine is ill-posed: \n",
      "tensor([[ 0.0000e+00, -1.2637e-02,  7.9990e-01, -1.6460e+01],\n",
      "        [-8.0000e-01,  0.0000e+00,  0.0000e+00,  7.5626e+01],\n",
      "        [ 0.0000e+00,  7.9990e-01,  1.2637e-02, -7.2769e+01],\n",
      "        [ 0.0000e+00,  0.0000e+00,  0.0000e+00,  1.0000e+00]],\n",
      "       dtype=torch.float64).\n",
      "  warnings.warn(f\"After SqueezeDim, img.affine is ill-posed: \\n{img.affine}.\")\n"
     ]
    },
    {
     "name": "stdout",
     "output_type": "stream",
     "text": [
      "420\n",
      "Epoch 5 training loss: 166.57696328265592\n",
      "Epoch 6 / 10\n",
      "0\n"
     ]
    },
    {
     "name": "stderr",
     "output_type": "stream",
     "text": [
      "c:\\Users\\bapti\\AppData\\Local\\Programs\\Python\\Python310\\lib\\site-packages\\monai\\transforms\\utility\\array.py:597: UserWarning: After SqueezeDim, img.affine is ill-posed: \n",
      "tensor([[ 0.0000e+00, -1.8870e-02, -7.9978e-01,  1.8411e+01],\n",
      "        [ 8.0000e-01,  0.0000e+00,  0.0000e+00, -1.1881e+02],\n",
      "        [ 0.0000e+00, -7.9978e-01,  1.8870e-02,  1.0472e+02],\n",
      "        [ 0.0000e+00,  0.0000e+00,  0.0000e+00,  1.0000e+00]],\n",
      "       dtype=torch.float64).\n",
      "  warnings.warn(f\"After SqueezeDim, img.affine is ill-posed: \\n{img.affine}.\")\n"
     ]
    },
    {
     "name": "stdout",
     "output_type": "stream",
     "text": [
      "20\n",
      "40\n",
      "60\n",
      "80\n",
      "100\n",
      "120\n",
      "140\n",
      "160\n",
      "180\n",
      "200\n",
      "220\n"
     ]
    },
    {
     "name": "stderr",
     "output_type": "stream",
     "text": [
      "c:\\Users\\bapti\\AppData\\Local\\Programs\\Python\\Python310\\lib\\site-packages\\monai\\transforms\\utility\\array.py:597: UserWarning: After SqueezeDim, img.affine is ill-posed: \n",
      "tensor([[ 0.0000e+00,  2.2680e-02,  7.9968e-01, -1.6227e+01],\n",
      "        [-8.0000e-01,  0.0000e+00,  0.0000e+00, -1.9430e+01],\n",
      "        [ 0.0000e+00,  7.9968e-01, -2.2680e-02, -7.7840e+01],\n",
      "        [ 0.0000e+00,  0.0000e+00,  0.0000e+00,  1.0000e+00]],\n",
      "       dtype=torch.float64).\n",
      "  warnings.warn(f\"After SqueezeDim, img.affine is ill-posed: \\n{img.affine}.\")\n"
     ]
    },
    {
     "name": "stdout",
     "output_type": "stream",
     "text": [
      "240\n",
      "260\n",
      "280\n",
      "300\n",
      "320\n",
      "340\n",
      "360\n",
      "380\n",
      "400\n"
     ]
    },
    {
     "name": "stderr",
     "output_type": "stream",
     "text": [
      "c:\\Users\\bapti\\AppData\\Local\\Programs\\Python\\Python310\\lib\\site-packages\\monai\\transforms\\utility\\array.py:597: UserWarning: After SqueezeDim, img.affine is ill-posed: \n",
      "tensor([[ 0.0000e+00,  2.2680e-02,  7.9968e-01, -2.5149e+01],\n",
      "        [-8.0000e-01,  0.0000e+00,  0.0000e+00,  8.9385e+01],\n",
      "        [ 0.0000e+00,  7.9968e-01, -2.2680e-02, -1.8953e+01],\n",
      "        [ 0.0000e+00,  0.0000e+00,  0.0000e+00,  1.0000e+00]],\n",
      "       dtype=torch.float64).\n",
      "  warnings.warn(f\"After SqueezeDim, img.affine is ill-posed: \\n{img.affine}.\")\n",
      "c:\\Users\\bapti\\AppData\\Local\\Programs\\Python\\Python310\\lib\\site-packages\\monai\\transforms\\utility\\array.py:597: UserWarning: After SqueezeDim, img.affine is ill-posed: \n",
      "tensor([[ 0.0000e+00, -3.4767e-02, -7.9924e-01,  8.9286e+00],\n",
      "        [ 8.0000e-01,  0.0000e+00,  0.0000e+00, -1.2861e+02],\n",
      "        [ 0.0000e+00, -7.9924e-01,  3.4767e-02,  1.9514e+01],\n",
      "        [ 0.0000e+00,  0.0000e+00,  0.0000e+00,  1.0000e+00]],\n",
      "       dtype=torch.float64).\n",
      "  warnings.warn(f\"After SqueezeDim, img.affine is ill-posed: \\n{img.affine}.\")\n"
     ]
    },
    {
     "name": "stdout",
     "output_type": "stream",
     "text": [
      "420\n",
      "Epoch 6 training loss: 153.4391812570393\n",
      "Epoch 7 / 10\n",
      "0\n",
      "20\n"
     ]
    },
    {
     "name": "stderr",
     "output_type": "stream",
     "text": [
      "c:\\Users\\bapti\\AppData\\Local\\Programs\\Python\\Python310\\lib\\site-packages\\monai\\transforms\\utility\\array.py:597: UserWarning: After SqueezeDim, img.affine is ill-posed: \n",
      "tensor([[ 0.0000e+00,  2.8356e-02,  9.9960e-01, -9.5200e+01],\n",
      "        [-1.0002e+00,  0.0000e+00,  0.0000e+00,  1.4755e+02],\n",
      "        [ 0.0000e+00,  9.9982e-01, -2.8350e-02,  6.1775e+00],\n",
      "        [ 0.0000e+00,  0.0000e+00,  0.0000e+00,  1.0000e+00]],\n",
      "       dtype=torch.float64).\n",
      "  warnings.warn(f\"After SqueezeDim, img.affine is ill-posed: \\n{img.affine}.\")\n"
     ]
    },
    {
     "name": "stdout",
     "output_type": "stream",
     "text": [
      "40\n",
      "60\n",
      "80\n",
      "100\n"
     ]
    },
    {
     "name": "stderr",
     "output_type": "stream",
     "text": [
      "c:\\Users\\bapti\\AppData\\Local\\Programs\\Python\\Python310\\lib\\site-packages\\monai\\transforms\\utility\\array.py:597: UserWarning: After SqueezeDim, img.affine is ill-posed: \n",
      "tensor([[ 0.0000e+00, -1.2637e-02,  7.9990e-01, -1.0756e+01],\n",
      "        [-8.0000e-01,  0.0000e+00,  0.0000e+00, -5.0774e+01],\n",
      "        [ 0.0000e+00,  7.9990e-01,  1.2637e-02, -2.8673e+01],\n",
      "        [ 0.0000e+00,  0.0000e+00,  0.0000e+00,  1.0000e+00]],\n",
      "       dtype=torch.float64).\n",
      "  warnings.warn(f\"After SqueezeDim, img.affine is ill-posed: \\n{img.affine}.\")\n"
     ]
    },
    {
     "name": "stdout",
     "output_type": "stream",
     "text": [
      "120\n",
      "140\n",
      "160\n"
     ]
    },
    {
     "name": "stderr",
     "output_type": "stream",
     "text": [
      "c:\\Users\\bapti\\AppData\\Local\\Programs\\Python\\Python310\\lib\\site-packages\\monai\\transforms\\utility\\array.py:597: UserWarning: After SqueezeDim, img.affine is ill-posed: \n",
      "tensor([[ 0.0000, -0.0189, -0.7998,  4.3579],\n",
      "        [ 0.8000,  0.0000,  0.0000, -7.6094],\n",
      "        [ 0.0000, -0.7998,  0.0189, 17.8288],\n",
      "        [ 0.0000,  0.0000,  0.0000,  1.0000]], dtype=torch.float64).\n",
      "  warnings.warn(f\"After SqueezeDim, img.affine is ill-posed: \\n{img.affine}.\")\n"
     ]
    },
    {
     "name": "stdout",
     "output_type": "stream",
     "text": [
      "180\n",
      "200\n",
      "220\n",
      "240\n",
      "260\n"
     ]
    },
    {
     "name": "stderr",
     "output_type": "stream",
     "text": [
      "c:\\Users\\bapti\\AppData\\Local\\Programs\\Python\\Python310\\lib\\site-packages\\monai\\transforms\\utility\\array.py:597: UserWarning: After SqueezeDim, img.affine is ill-posed: \n",
      "tensor([[ 0.0000e+00, -3.4767e-02, -7.9924e-01,  1.4769e+01],\n",
      "        [ 8.0000e-01,  0.0000e+00,  0.0000e+00, -1.2861e+02],\n",
      "        [ 0.0000e+00, -7.9924e-01,  3.4767e-02,  1.1695e+02],\n",
      "        [ 0.0000e+00,  0.0000e+00,  0.0000e+00,  1.0000e+00]],\n",
      "       dtype=torch.float64).\n",
      "  warnings.warn(f\"After SqueezeDim, img.affine is ill-posed: \\n{img.affine}.\")\n"
     ]
    },
    {
     "name": "stdout",
     "output_type": "stream",
     "text": [
      "280\n",
      "300\n",
      "320\n"
     ]
    },
    {
     "name": "stderr",
     "output_type": "stream",
     "text": [
      "c:\\Users\\bapti\\AppData\\Local\\Programs\\Python\\Python310\\lib\\site-packages\\monai\\transforms\\utility\\array.py:597: UserWarning: After SqueezeDim, img.affine is ill-posed: \n",
      "tensor([[ 0.0000e+00, -2.8356e-02, -9.9959e-01,  7.2856e+01],\n",
      "        [ 1.0002e+00,  0.0000e+00,  0.0000e+00,  3.7946e+01],\n",
      "        [ 0.0000e+00, -9.9982e-01,  2.8350e-02,  1.1593e+02],\n",
      "        [ 0.0000e+00,  0.0000e+00,  0.0000e+00,  1.0000e+00]],\n",
      "       dtype=torch.float64).\n",
      "  warnings.warn(f\"After SqueezeDim, img.affine is ill-posed: \\n{img.affine}.\")\n"
     ]
    },
    {
     "name": "stdout",
     "output_type": "stream",
     "text": [
      "340\n",
      "360\n",
      "380\n",
      "400\n",
      "420\n",
      "Epoch 7 training loss: 156.90199969848618\n",
      "Epoch 8 / 10\n",
      "0\n",
      "20\n"
     ]
    },
    {
     "name": "stderr",
     "output_type": "stream",
     "text": [
      "c:\\Users\\bapti\\AppData\\Local\\Programs\\Python\\Python310\\lib\\site-packages\\monai\\transforms\\utility\\array.py:597: UserWarning: After SqueezeDim, img.affine is ill-posed: \n",
      "tensor([[ 0.0000e+00,  5.2965e-03, -1.0000e+00,  2.8054e+01],\n",
      "        [ 1.0000e+00,  0.0000e+00,  0.0000e+00,  7.9243e+01],\n",
      "        [ 0.0000e+00, -9.9999e-01, -5.2966e-03,  1.7321e+02],\n",
      "        [ 0.0000e+00,  0.0000e+00,  0.0000e+00,  1.0000e+00]],\n",
      "       dtype=torch.float64).\n",
      "  warnings.warn(f\"After SqueezeDim, img.affine is ill-posed: \\n{img.affine}.\")\n"
     ]
    },
    {
     "name": "stdout",
     "output_type": "stream",
     "text": [
      "40\n"
     ]
    },
    {
     "name": "stderr",
     "output_type": "stream",
     "text": [
      "c:\\Users\\bapti\\AppData\\Local\\Programs\\Python\\Python310\\lib\\site-packages\\monai\\transforms\\utility\\array.py:597: UserWarning: After SqueezeDim, img.affine is ill-posed: \n",
      "tensor([[ 0.0000e+00, -2.8356e-02, -9.9960e-01,  1.2984e+01],\n",
      "        [ 1.0002e+00,  0.0000e+00,  0.0000e+00, -1.2452e+02],\n",
      "        [ 0.0000e+00, -9.9982e-01,  2.8350e-02,  1.1114e+01],\n",
      "        [ 0.0000e+00,  0.0000e+00,  0.0000e+00,  1.0000e+00]],\n",
      "       dtype=torch.float64).\n",
      "  warnings.warn(f\"After SqueezeDim, img.affine is ill-posed: \\n{img.affine}.\")\n"
     ]
    },
    {
     "name": "stdout",
     "output_type": "stream",
     "text": [
      "60\n",
      "80\n",
      "100\n",
      "120\n",
      "140\n",
      "160\n",
      "180\n",
      "200\n",
      "220\n",
      "240\n",
      "260\n",
      "280\n"
     ]
    },
    {
     "name": "stderr",
     "output_type": "stream",
     "text": [
      "c:\\Users\\bapti\\AppData\\Local\\Programs\\Python\\Python310\\lib\\site-packages\\monai\\transforms\\utility\\array.py:597: UserWarning: After SqueezeDim, img.affine is ill-posed: \n",
      "tensor([[ 0.0000e+00, -2.7249e-02, -9.9902e-01,  8.3959e+01],\n",
      "        [ 1.0000e+00,  0.0000e+00,  0.0000e+00,  1.5252e+02],\n",
      "        [ 0.0000e+00, -9.9963e-01,  2.7232e-02,  1.5879e+02],\n",
      "        [ 0.0000e+00,  0.0000e+00,  0.0000e+00,  1.0000e+00]],\n",
      "       dtype=torch.float64).\n",
      "  warnings.warn(f\"After SqueezeDim, img.affine is ill-posed: \\n{img.affine}.\")\n"
     ]
    },
    {
     "name": "stdout",
     "output_type": "stream",
     "text": [
      "300\n",
      "320\n",
      "340\n"
     ]
    },
    {
     "name": "stderr",
     "output_type": "stream",
     "text": [
      "c:\\Users\\bapti\\AppData\\Local\\Programs\\Python\\Python310\\lib\\site-packages\\monai\\transforms\\utility\\array.py:597: UserWarning: After SqueezeDim, img.affine is ill-posed: \n",
      "tensor([[ 0.0000e+00,  2.2680e-02,  7.9968e-01, -2.8035e+01],\n",
      "        [-8.0000e-01,  0.0000e+00,  0.0000e+00, -5.3815e+01],\n",
      "        [ 0.0000e+00,  7.9968e-01, -2.2680e-02, -9.2501e+01],\n",
      "        [ 0.0000e+00,  0.0000e+00,  0.0000e+00,  1.0000e+00]],\n",
      "       dtype=torch.float64).\n",
      "  warnings.warn(f\"After SqueezeDim, img.affine is ill-posed: \\n{img.affine}.\")\n"
     ]
    },
    {
     "name": "stdout",
     "output_type": "stream",
     "text": [
      "360\n",
      "380\n",
      "400\n"
     ]
    },
    {
     "name": "stderr",
     "output_type": "stream",
     "text": [
      "c:\\Users\\bapti\\AppData\\Local\\Programs\\Python\\Python310\\lib\\site-packages\\monai\\transforms\\utility\\array.py:597: UserWarning: After SqueezeDim, img.affine is ill-posed: \n",
      "tensor([[ 0.0000e+00, -3.4767e-02, -7.9924e-01,  2.3977e+01],\n",
      "        [ 8.0000e-01,  0.0000e+00,  0.0000e+00, -1.3661e+02],\n",
      "        [ 0.0000e+00, -7.9924e-01,  3.4767e-02,  8.9326e+01],\n",
      "        [ 0.0000e+00,  0.0000e+00,  0.0000e+00,  1.0000e+00]],\n",
      "       dtype=torch.float64).\n",
      "  warnings.warn(f\"After SqueezeDim, img.affine is ill-posed: \\n{img.affine}.\")\n"
     ]
    },
    {
     "name": "stdout",
     "output_type": "stream",
     "text": [
      "420\n",
      "Epoch 8 training loss: 147.7274733185768\n",
      "Epoch 9 / 10\n",
      "0\n",
      "20\n",
      "40\n"
     ]
    },
    {
     "name": "stderr",
     "output_type": "stream",
     "text": [
      "c:\\Users\\bapti\\AppData\\Local\\Programs\\Python\\Python310\\lib\\site-packages\\monai\\transforms\\utility\\array.py:597: UserWarning: After SqueezeDim, img.affine is ill-posed: \n",
      "tensor([[ 0.0000e+00,  1.2637e-02, -7.9990e-01,  1.7981e+01],\n",
      "        [ 8.0000e-01,  0.0000e+00,  0.0000e+00,  1.2283e+02],\n",
      "        [ 0.0000e+00, -7.9990e-01, -1.2637e-02,  2.6188e+01],\n",
      "        [ 0.0000e+00,  0.0000e+00,  0.0000e+00,  1.0000e+00]],\n",
      "       dtype=torch.float64).\n",
      "  warnings.warn(f\"After SqueezeDim, img.affine is ill-posed: \\n{img.affine}.\")\n"
     ]
    },
    {
     "name": "stdout",
     "output_type": "stream",
     "text": [
      "60\n",
      "80\n",
      "100\n",
      "120\n",
      "140\n",
      "160\n"
     ]
    },
    {
     "name": "stderr",
     "output_type": "stream",
     "text": [
      "c:\\Users\\bapti\\AppData\\Local\\Programs\\Python\\Python310\\lib\\site-packages\\monai\\transforms\\utility\\array.py:597: UserWarning: After SqueezeDim, img.affine is ill-posed: \n",
      "tensor([[  0.0000,   0.0348,   0.7992, -28.7062],\n",
      "        [ -0.8000,   0.0000,   0.0000, -10.2130],\n",
      "        [  0.0000,   0.7992,  -0.0348, -17.2855],\n",
      "        [  0.0000,   0.0000,   0.0000,   1.0000]], dtype=torch.float64).\n",
      "  warnings.warn(f\"After SqueezeDim, img.affine is ill-posed: \\n{img.affine}.\")\n"
     ]
    },
    {
     "name": "stdout",
     "output_type": "stream",
     "text": [
      "180\n",
      "200\n",
      "220\n",
      "240\n",
      "260\n",
      "280\n",
      "300\n",
      "320\n"
     ]
    },
    {
     "name": "stderr",
     "output_type": "stream",
     "text": [
      "c:\\Users\\bapti\\AppData\\Local\\Programs\\Python\\Python310\\lib\\site-packages\\monai\\transforms\\utility\\array.py:597: UserWarning: After SqueezeDim, img.affine is ill-posed: \n",
      "tensor([[ 0.0000e+00, -2.7249e-02, -9.9902e-01,  7.7320e+01],\n",
      "        [ 1.0000e+00,  0.0000e+00,  0.0000e+00, -9.0476e+01],\n",
      "        [ 0.0000e+00, -9.9963e-01,  2.7232e-02,  1.7198e+02],\n",
      "        [ 0.0000e+00,  0.0000e+00,  0.0000e+00,  1.0000e+00]],\n",
      "       dtype=torch.float64).\n",
      "  warnings.warn(f\"After SqueezeDim, img.affine is ill-posed: \\n{img.affine}.\")\n"
     ]
    },
    {
     "name": "stdout",
     "output_type": "stream",
     "text": [
      "340\n",
      "360\n",
      "380\n"
     ]
    },
    {
     "name": "stderr",
     "output_type": "stream",
     "text": [
      "c:\\Users\\bapti\\AppData\\Local\\Programs\\Python\\Python310\\lib\\site-packages\\monai\\transforms\\utility\\array.py:597: UserWarning: After SqueezeDim, img.affine is ill-posed: \n",
      "tensor([[ 0.0000e+00,  1.8870e-02,  7.9978e-01, -1.3977e+01],\n",
      "        [-8.0000e-01,  0.0000e+00,  0.0000e+00, -8.4409e+01],\n",
      "        [ 0.0000e+00,  7.9978e-01, -1.8870e-02, -8.0966e+01],\n",
      "        [ 0.0000e+00,  0.0000e+00,  0.0000e+00,  1.0000e+00]],\n",
      "       dtype=torch.float64).\n",
      "  warnings.warn(f\"After SqueezeDim, img.affine is ill-posed: \\n{img.affine}.\")\n"
     ]
    },
    {
     "name": "stdout",
     "output_type": "stream",
     "text": [
      "400\n",
      "420\n",
      "Epoch 9 training loss: 149.30382027104497\n",
      "Epoch 10 / 10\n",
      "0\n",
      "20\n",
      "40\n",
      "60\n",
      "80\n",
      "100\n",
      "120\n",
      "140\n"
     ]
    },
    {
     "name": "stderr",
     "output_type": "stream",
     "text": [
      "c:\\Users\\bapti\\AppData\\Local\\Programs\\Python\\Python310\\lib\\site-packages\\monai\\transforms\\utility\\array.py:597: UserWarning: After SqueezeDim, img.affine is ill-posed: \n",
      "tensor([[ 0.0000e+00,  5.2965e-03, -1.0000e+00,  3.9970e+01],\n",
      "        [ 1.0000e+00,  0.0000e+00,  0.0000e+00, -7.8757e+01],\n",
      "        [ 0.0000e+00, -9.9999e-01, -5.2966e-03,  1.8928e+02],\n",
      "        [ 0.0000e+00,  0.0000e+00,  0.0000e+00,  1.0000e+00]],\n",
      "       dtype=torch.float64).\n",
      "  warnings.warn(f\"After SqueezeDim, img.affine is ill-posed: \\n{img.affine}.\")\n"
     ]
    },
    {
     "name": "stdout",
     "output_type": "stream",
     "text": [
      "160\n",
      "180\n",
      "200\n",
      "220\n",
      "240\n"
     ]
    },
    {
     "name": "stderr",
     "output_type": "stream",
     "text": [
      "c:\\Users\\bapti\\AppData\\Local\\Programs\\Python\\Python310\\lib\\site-packages\\monai\\transforms\\utility\\array.py:597: UserWarning: After SqueezeDim, img.affine is ill-posed: \n",
      "tensor([[ 0.0000e+00, -2.2680e-02, -7.9968e-01,  2.0834e+01],\n",
      "        [ 8.0000e-01,  0.0000e+00,  0.0000e+00, -1.2023e+02],\n",
      "        [ 0.0000e+00, -7.9968e-01,  2.2680e-02,  1.2839e+02],\n",
      "        [ 0.0000e+00,  0.0000e+00,  0.0000e+00,  1.0000e+00]],\n",
      "       dtype=torch.float64).\n",
      "  warnings.warn(f\"After SqueezeDim, img.affine is ill-posed: \\n{img.affine}.\")\n"
     ]
    },
    {
     "name": "stdout",
     "output_type": "stream",
     "text": [
      "260\n",
      "280\n",
      "300\n",
      "320\n",
      "340\n",
      "360\n",
      "380\n",
      "400\n",
      "420\n",
      "Epoch 10 training loss: 150.23015386611223\n"
     ]
    }
   ],
   "source": [
    "criterion = nn.BCELoss()\n",
    "optimizer = optim.Adam(model.parameters(), lr=0.001)\n",
    "\n",
    "\n",
    "# Define the training loop\n",
    "def training_one_epoch(model):\n",
    "    model.train()\n",
    "    running_loss = 0.0\n",
    "    queue_line = np.arange(train_dataset.length)\n",
    "    np.random.shuffle(queue_line) \n",
    "    index=0\n",
    "    for i in queue_line:\n",
    "        if index%20 == 0:\n",
    "            print(index)\n",
    "        image, label = train_dataset[i]\n",
    "        image, label = image.to(device), label.to(device)\n",
    "        optimizer.zero_grad()\n",
    "        outputs = model(image)\n",
    "        loss = criterion(outputs, label.float())\n",
    "        loss.backward()\n",
    "        optimizer.step()\n",
    "        running_loss += loss.item()\n",
    "        index+=1\n",
    "    return model, running_loss / len(train_dataset)\n",
    "\n",
    "# Define the number of epochs\n",
    "num_epochs = 10\n",
    "\n",
    "for epoch in range(num_epochs):\n",
    "    print(f\"Epoch {epoch + 1} / {num_epochs}\")\n",
    "    model, train_loss = training_one_epoch(model)\n",
    "    print(f\"Epoch {epoch + 1} training loss: {train_loss}\")\n",
    "\n",
    "#save model\n",
    "torch.save(model.state_dict(), \"model.pth\")\n",
    "\n"
   ]
  },
  {
   "cell_type": "code",
   "execution_count": null,
   "metadata": {},
   "outputs": [
    {
     "name": "stdout",
     "output_type": "stream",
     "text": [
      "metatensor([[0.6818, 0.3297]])\n",
      "metatensor([[0.6832, 0.3287]])\n",
      "metatensor([[0.0154, 0.9768]])\n",
      "metatensor([[0.6825, 0.3292]])\n"
     ]
    },
    {
     "name": "stderr",
     "output_type": "stream",
     "text": [
      "c:\\Users\\bapti\\AppData\\Local\\Programs\\Python\\Python310\\lib\\site-packages\\monai\\transforms\\utility\\array.py:597: UserWarning: After SqueezeDim, img.affine is ill-posed: \n",
      "tensor([[ 0.0000e+00,  4.3468e-02,  9.9905e-01, -5.6091e+01],\n",
      "        [-1.0002e+00,  0.0000e+00,  0.0000e+00,  9.5959e+01],\n",
      "        [ 0.0000e+00,  9.9928e-01, -4.3459e-02,  2.9378e+01],\n",
      "        [ 0.0000e+00,  0.0000e+00,  0.0000e+00,  1.0000e+00]],\n",
      "       dtype=torch.float64).\n",
      "  warnings.warn(f\"After SqueezeDim, img.affine is ill-posed: \\n{img.affine}.\")\n"
     ]
    },
    {
     "name": "stdout",
     "output_type": "stream",
     "text": [
      "metatensor([[0.6833, 0.3286]])\n",
      "metatensor([[0.6825, 0.3292]])\n",
      "metatensor([[0.6835, 0.3283]])\n",
      "metatensor([[0.6839, 0.3280]])\n"
     ]
    },
    {
     "name": "stderr",
     "output_type": "stream",
     "text": [
      "c:\\Users\\bapti\\AppData\\Local\\Programs\\Python\\Python310\\lib\\site-packages\\monai\\transforms\\utility\\array.py:597: UserWarning: After SqueezeDim, img.affine is ill-posed: \n",
      "tensor([[ 0.0000e+00,  2.2680e-02,  7.9968e-01, -2.6430e+01],\n",
      "        [-8.0000e-01,  0.0000e+00,  0.0000e+00, -4.8012e+01],\n",
      "        [ 0.0000e+00,  7.9968e-01, -2.2680e-02, -8.5927e+01],\n",
      "        [ 0.0000e+00,  0.0000e+00,  0.0000e+00,  1.0000e+00]],\n",
      "       dtype=torch.float64).\n",
      "  warnings.warn(f\"After SqueezeDim, img.affine is ill-posed: \\n{img.affine}.\")\n"
     ]
    },
    {
     "name": "stdout",
     "output_type": "stream",
     "text": [
      "metatensor([[0.6819, 0.3295]])\n",
      "metatensor([[0.6829, 0.3290]])\n",
      "metatensor([[0.6838, 0.3280]])\n",
      "metatensor([[0.6838, 0.3280]])\n",
      "metatensor([[0.6836, 0.3282]])\n",
      "metatensor([[0.6829, 0.3290]])\n",
      "metatensor([[0.6839, 0.3279]])\n",
      "metatensor([[0.6832, 0.3287]])\n",
      "metatensor([[0.6836, 0.3283]])\n",
      "metatensor([[0.6836, 0.3282]])\n",
      "metatensor([[0.6833, 0.3286]])\n",
      "metatensor([[0.6839, 0.3279]])\n",
      "metatensor([[0.6838, 0.3281]])\n",
      "metatensor([[0.6826, 0.3290]])\n",
      "metatensor([[0.6819, 0.3296]])\n",
      "metatensor([[0.6831, 0.3287]])\n",
      "metatensor([[0.6814, 0.3304]])\n",
      "metatensor([[0.6832, 0.3286]])\n",
      "metatensor([[0.6838, 0.3280]])\n",
      "metatensor([[0.6833, 0.3285]])\n",
      "metatensor([[0.6842, 0.3277]])\n",
      "metatensor([[0.0055, 0.9951]])\n",
      "metatensor([[0.6838, 0.3280]])\n",
      "metatensor([[0.6840, 0.3279]])\n",
      "metatensor([[0.6839, 0.3279]])\n",
      "metatensor([[0.6837, 0.3281]])\n",
      "metatensor([[0.6839, 0.3279]])\n",
      "metatensor([[0.6841, 0.3278]])\n",
      "metatensor([[0.6839, 0.3279]])\n",
      "metatensor([[0.6814, 0.3305]])\n",
      "metatensor([[0.6826, 0.3290]])\n",
      "metatensor([[0.6829, 0.3290]])\n",
      "metatensor([[0.6829, 0.3288]])\n",
      "metatensor([[0.6837, 0.3281]])\n",
      "metatensor([[0.6829, 0.3289]])\n",
      "metatensor([[0.6835, 0.3283]])\n",
      "metatensor([[0.6827, 0.3289]])\n",
      "metatensor([[0.6823, 0.3294]])\n"
     ]
    },
    {
     "name": "stderr",
     "output_type": "stream",
     "text": [
      "c:\\Users\\bapti\\AppData\\Local\\Programs\\Python\\Python310\\lib\\site-packages\\monai\\transforms\\utility\\array.py:597: UserWarning: After SqueezeDim, img.affine is ill-posed: \n",
      "tensor([[ 0.0000e+00,  2.8356e-02,  9.9960e-01,  7.6665e+00],\n",
      "        [-1.0002e+00,  0.0000e+00,  0.0000e+00, -4.6280e+01],\n",
      "        [ 0.0000e+00,  9.9982e-01, -2.8350e-02,  4.6102e+01],\n",
      "        [ 0.0000e+00,  0.0000e+00,  0.0000e+00,  1.0000e+00]],\n",
      "       dtype=torch.float64).\n",
      "  warnings.warn(f\"After SqueezeDim, img.affine is ill-posed: \\n{img.affine}.\")\n"
     ]
    },
    {
     "name": "stdout",
     "output_type": "stream",
     "text": [
      "metatensor([[0.6829, 0.3288]])\n",
      "metatensor([[0.6831, 0.3287]])\n",
      "metatensor([[0.6829, 0.3290]])\n",
      "metatensor([[0.6833, 0.3286]])\n",
      "metatensor([[0.6831, 0.3287]])\n",
      "metatensor([[0.6841, 0.3278]])\n",
      "metatensor([[0.6828, 0.3291]])\n",
      "metatensor([[0.6830, 0.3288]])\n",
      "Validation accuracy: 0.4953271028037383\n"
     ]
    }
   ],
   "source": [
    "# Assess the model accuracy on the validation set\n",
    "\n",
    "def evaluate_model(model, dataset):\n",
    "    model.eval()\n",
    "    correct = 0\n",
    "    total = 0\n",
    "    with torch.no_grad():\n",
    "        for i in range(dataset.length):\n",
    "            image, label = dataset[i]\n",
    "            image, label = image.to(device), label.to(device)\n",
    "            outputs = model(image)\n",
    "            predicted = torch.argmax(outputs)\n",
    "            if i % 2 == 0:\n",
    "                print(outputs)\n",
    "            total += label.size(0)\n",
    "            correct += (predicted == torch.argmax(label)).sum().item()\n",
    "    return correct / total\n",
    "\n",
    "accuracy = evaluate_model(model, val_dataset)\n",
    "print(f\"Validation accuracy: {accuracy}\")"
   ]
  }
 ],
 "metadata": {
  "kernelspec": {
   "display_name": "Python 3",
   "language": "python",
   "name": "python3"
  },
  "language_info": {
   "codemirror_mode": {
    "name": "ipython",
    "version": 3
   },
   "file_extension": ".py",
   "mimetype": "text/x-python",
   "name": "python",
   "nbconvert_exporter": "python",
   "pygments_lexer": "ipython3",
   "version": "3.10.6"
  }
 },
 "nbformat": 4,
 "nbformat_minor": 2
}
