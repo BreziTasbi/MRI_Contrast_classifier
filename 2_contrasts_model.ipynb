{
 "cells": [
  {
   "cell_type": "markdown",
   "metadata": {},
   "source": [
    "## 2 constrasts model\n",
    "\n",
    "This notebook load, preprocess the data and train a first modèle to predict if a 2 image is T1w or T2w.\n",
    "The Notebook form helps running and testing fast before coding the final structure"
   ]
  },
  {
   "cell_type": "code",
   "execution_count": 1,
   "metadata": {},
   "outputs": [],
   "source": [
    "import numpy as np\n",
    "import torch\n",
    "import torch.nn as nn\n",
    "import torch.optim as optim\n",
    "import nibabel as nib\n",
    "import pandas as pd\n",
    "from monai.data import Dataset, DataLoader, CacheDataset\n",
    "from monai.transforms import (\n",
    "    Compose,\n",
    "    RandScaleCrop,\n",
    "    RandFlipd,\n",
    "    RandRotate90d,\n",
    "    RandRotate,\n",
    "    RandShiftIntensityd,\n",
    "    ToTensord,\n",
    "    \n",
    ")\n",
    "import os\n",
    "import nibabel as nib\n",
    "import json\n",
    "import pandas as pd\n",
    "from sklearn.model_selection import train_test_split\n",
    "import monai\n",
    "\n",
    "device = torch.device(\"cuda\" if torch.cuda.is_available() else \"cpu\")"
   ]
  },
  {
   "cell_type": "code",
   "execution_count": 2,
   "metadata": {},
   "outputs": [
    {
     "name": "stdout",
     "output_type": "stream",
     "text": [
      "Searching for T1w, T2w, and DWI files in data//data-multi-subject// ...\n",
      "Found 20 T1w files and 20 T2w files.\n"
     ]
    }
   ],
   "source": [
    "# this cell aims at extracting the list of path relevant for the first model test which takes T1w T2w adn DWI as input\n",
    "\n",
    "base_dir=\"data//data-multi-subject//\"\n",
    "\n",
    "desired_extension = \".json\"\n",
    "\n",
    "# Initialize lists to store the relative paths for T1w, T2w, and DWI files\n",
    "t1w_file_paths = []\n",
    "t2w_file_paths = []\n",
    "\n",
    "print(\"Searching for T1w, T2w, and DWI files in\", base_dir, \"...\")\n",
    "\n",
    "# Traverse the directory structure\n",
    "for root, dirs, files in os.walk(base_dir):\n",
    "    # Exclude the \"derivatives\" subfolder\n",
    "    if \"derivatives\" in dirs:\n",
    "        dirs.remove(\"derivatives\")\n",
    "    for file in files:\n",
    "        # Check if the file name contains the desired names\n",
    "        if \"T1w\" in file and file.endswith(desired_extension):\n",
    "            # Get the relative path of the T1w file\n",
    "            relative_path = os.path.relpath(os.path.join(root, file), base_dir)\n",
    "            # Remove the file extension\n",
    "            relative_path = os.path.splitext(relative_path)[0] + \".nii.gz\"\n",
    "            # Append the relative path to the T1w file paths list\n",
    "            t1w_file_paths.append(relative_path)\n",
    "        elif \"T2w\" in file and file.endswith(desired_extension):\n",
    "            # Get the relative path of the T2w file\n",
    "            relative_path = os.path.relpath(os.path.join(root, file), base_dir)\n",
    "            # Remove the file extension\n",
    "            relative_path = os.path.splitext(relative_path)[0] + \".nii.gz\"\n",
    "            # Append the relative path to the T2w file paths list\n",
    "            t2w_file_paths.append(relative_path)\n",
    "\n",
    "t1w_file_paths = t1w_file_paths[:20]\n",
    "t2w_file_paths = t2w_file_paths[:20]\n",
    "\n",
    "print(\"Found\", len(t1w_file_paths), \"T1w files and\", len(t2w_file_paths), \"T2w files.\")"
   ]
  },
  {
   "cell_type": "code",
   "execution_count": 3,
   "metadata": {},
   "outputs": [],
   "source": [
    "# Define a function to load image data\n",
    "def load_image(image_path):\n",
    "    img = nib.load(image_path)\n",
    "    img_data = img.get_fdata()\n",
    "    return img_data\n",
    "\n",
    "def From_3D_to_2Ds(image, label):\n",
    "    #from each 3D image we will extract 10 2D images, from random different views\n",
    "    data_2D=[]\n",
    "    selected_perax=[[],[],[]] #list of the selected indexes for each view\n",
    "    for i in range(10):\n",
    "        # randomly select a view\n",
    "        view = np.random.choice([0, 1, 2]) # 0: sagittal, 1: coronal, 2: axial\n",
    "        # randomly select an index for wich we will extract the 2D image among the index which were not yet selected\n",
    "        index = np.random.choice([i for i in range(image.shape[view]) if i not in selected_perax[view]])\n",
    "        # choose randomly if the image is cropped or not  \n",
    "\n",
    "        if view == 0:\n",
    "            image_2D = image[index, :, :]\n",
    "        elif view == 1:\n",
    "            image_2D = image[:, index, :]\n",
    "        else:\n",
    "            image_2D = image[:, :, index]\n",
    "        selected_perax[view].append(index)\n",
    "        data_2D.append({\"image\" : image_2D, \"label\" : label})\n",
    "    return(data_2D)\n"
   ]
  },
  {
   "cell_type": "code",
   "execution_count": 4,
   "metadata": {},
   "outputs": [
    {
     "name": "stdout",
     "output_type": "stream",
     "text": [
      "                            image_path   label\n",
      "0  sub-amu01\\anat\\sub-amu01_T1w.nii.gz  [1, 0]\n",
      "1  sub-amu02\\anat\\sub-amu02_T1w.nii.gz  [1, 0]\n",
      "2  sub-amu03\\anat\\sub-amu03_T1w.nii.gz  [1, 0]\n",
      "3  sub-amu04\\anat\\sub-amu04_T1w.nii.gz  [1, 0]\n",
      "4  sub-amu05\\anat\\sub-amu05_T1w.nii.gz  [1, 0]\n"
     ]
    }
   ],
   "source": [
    "# split the data into training and validation sets\n",
    "\n",
    "# build a dataset with a colmn \"file path\" wich contiains the paths listed in both t1w_file_paths and t2w_file_paths\n",
    "path_data = pd.DataFrame({\"image_path\" : t1w_file_paths + t2w_file_paths, \"label\" : len(t1w_file_paths) * [[1,0]] + len(t2w_file_paths) * [[0,1]]})\n",
    "print(path_data.head())\n",
    "\n",
    "train_data, val_data = train_test_split(path_data, test_size=0.2, random_state=0)\n",
    "\n",
    "# load the 3D images\n",
    "train_data_2D = []\n",
    "val_data_2D = []\n",
    "for index, row in train_data.iterrows():\n",
    "    image_path = os.path.join(base_dir, row[\"image_path\"])\n",
    "    image = load_image(image_path)\n",
    "    train_data_2D += From_3D_to_2Ds(image, row[\"label\"])\n",
    "for index, row in val_data.iterrows():\n",
    "    image_path = os.path.join(base_dir, row[\"image_path\"])\n",
    "    image = load_image(image_path)\n",
    "    val_data_2D += From_3D_to_2Ds(image, row[\"label\"])\n",
    "\n",
    "# Shuffle the data\n",
    "np.random.shuffle(train_data_2D)\n",
    "np.random.shuffle(val_data_2D)\n",
    "\n"
   ]
  },
  {
   "cell_type": "code",
   "execution_count": 9,
   "metadata": {},
   "outputs": [],
   "source": [
    "# Define a custom dataset class\n",
    "class Dataset_2D(Dataset):\n",
    "    def __init__(self, data, transform=None):\n",
    "        self.data = data\n",
    "        self.transform = transform\n",
    "\n",
    "    def __len__(self):\n",
    "        return len(self.data)\n",
    "\n",
    "    def __getitem__(self, index):\n",
    "        data_item = self.data[index]\n",
    "        image = data_item[\"image\"]\n",
    "        label = data_item[\"label\"]\n",
    "        if self.transform:\n",
    "            image = self.transform(image)\n",
    "        return image, label\n",
    "    \n",
    "# use monai to define the transforms for data augmentation\n",
    "# perform the following transformations : rotation (random between +3° and -3°), flipping (random between 0°,  90 °, 180° and 270°), cropping (Random size, random place) and shifting (random shift)\n",
    "\n",
    "train_transforms = Compose(\n",
    "    [\n",
    "        RandRotate90d(keys=[\"image\"], prob=0.5),\n",
    "        RandFlipd(keys=[\"image\"], prob=0.5),\n",
    "        RandShiftIntensityd(keys=[\"image\"], offsets=0.1, prob=0.5),\n",
    "        RandScaleCrop([np.random.uniform(0.5, 1), np.random.uniform(0.5,1)], random_center=True),\n",
    "        ToTensord(keys=[\"image\"]),\n",
    "    ]\n",
    ")\n"
   ]
  },
  {
   "cell_type": "code",
   "execution_count": 10,
   "metadata": {},
   "outputs": [],
   "source": [
    "# Build the training and validation datasets\n",
    "train_dataset = Dataset_2D(train_data_2D, transform=train_transforms)\n",
    "val_dataset = Dataset_2D(val_data_2D, transform=train_transforms)\n",
    "\n",
    "# Create data loaders\n",
    "train_loader = DataLoader(train_dataset, batch_size=10, shuffle=True)\n",
    "val_loader = DataLoader(val_dataset, batch_size=10)"
   ]
  },
  {
   "cell_type": "code",
   "execution_count": 7,
   "metadata": {},
   "outputs": [],
   "source": [
    "\n",
    "\n",
    "\n",
    "model = monai.networks.nets.UNet(\n",
    "    spatial_dims=2,\n",
    "    in_channels=1,\n",
    "    out_channels=2,\n",
    "    channels=(16, 32, 64, 128, 256),\n",
    "    strides=(2, 2, 2, 2),\n",
    "    num_res_units=2,\n",
    ").to(device)\n",
    "\n",
    "\n",
    "\n"
   ]
  }
 ],
 "metadata": {
  "kernelspec": {
   "display_name": "Python 3",
   "language": "python",
   "name": "python3"
  },
  "language_info": {
   "codemirror_mode": {
    "name": "ipython",
    "version": 3
   },
   "file_extension": ".py",
   "mimetype": "text/x-python",
   "name": "python",
   "nbconvert_exporter": "python",
   "pygments_lexer": "ipython3",
   "version": "3.10.6"
  }
 },
 "nbformat": 4,
 "nbformat_minor": 2
}
